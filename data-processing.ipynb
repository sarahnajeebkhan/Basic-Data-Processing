{
 "cells": [
  {
   "cell_type": "code",
   "execution_count": 1,
   "id": "520f478e",
   "metadata": {
    "execution": {
     "iopub.execute_input": "2022-04-05T04:13:39.511562Z",
     "iopub.status.busy": "2022-04-05T04:13:39.510884Z",
     "iopub.status.idle": "2022-04-05T04:13:39.514837Z",
     "shell.execute_reply": "2022-04-05T04:13:39.513985Z"
    },
    "papermill": {
     "duration": 0.077946,
     "end_time": "2022-04-05T04:13:39.515018",
     "exception": false,
     "start_time": "2022-04-05T04:13:39.437072",
     "status": "completed"
    },
    "tags": []
   },
   "outputs": [],
   "source": [
    "import numpy as np\n",
    "import pandas as pd\n",
    "from pandas import Series, DataFrame"
   ]
  },
  {
   "cell_type": "code",
   "execution_count": 2,
   "id": "d8653e51",
   "metadata": {
    "execution": {
     "iopub.execute_input": "2022-04-05T04:13:39.652961Z",
     "iopub.status.busy": "2022-04-05T04:13:39.652193Z",
     "iopub.status.idle": "2022-04-05T04:13:39.681755Z",
     "shell.execute_reply": "2022-04-05T04:13:39.680972Z"
    },
    "papermill": {
     "duration": 0.102077,
     "end_time": "2022-04-05T04:13:39.681904",
     "exception": false,
     "start_time": "2022-04-05T04:13:39.579827",
     "status": "completed"
    },
    "tags": []
   },
   "outputs": [
    {
     "name": "stderr",
     "output_type": "stream",
     "text": [
      "/opt/conda/lib/python3.7/site-packages/ipykernel_launcher.py:2: FutureWarning: pandas.util.testing is deprecated. Use the functions in the public API at pandas.testing instead.\n",
      "  \n"
     ]
    }
   ],
   "source": [
    "#import pandas testing utility\n",
    "import pandas.util.testing as tm; tm.N=3\n",
    "\n",
    "#create an unpivoted function\n",
    "def unpivot(frame):\n",
    "    N,K=frame.shape\n",
    "    \n",
    "    data={'value':frame.values.ravel('F'),\n",
    "         'variable':np.asarray(frame.columns).repeat(N),\n",
    "         'date':np.tile(np.asarray(frame.index),K)}\n",
    "    \n",
    "    #return the dataframe\n",
    "    return DataFrame(data,columns=['date','variable','value'])\n",
    "    \n",
    "#set the dataframe to be used\n",
    "dframe=unpivot(tm.makeTimeDataFrame())"
   ]
  },
  {
   "cell_type": "code",
   "execution_count": 3,
   "id": "005997d0",
   "metadata": {
    "execution": {
     "iopub.execute_input": "2022-04-05T04:13:39.821871Z",
     "iopub.status.busy": "2022-04-05T04:13:39.821178Z",
     "iopub.status.idle": "2022-04-05T04:13:39.837889Z",
     "shell.execute_reply": "2022-04-05T04:13:39.837294Z"
    },
    "papermill": {
     "duration": 0.090514,
     "end_time": "2022-04-05T04:13:39.838017",
     "exception": false,
     "start_time": "2022-04-05T04:13:39.747503",
     "status": "completed"
    },
    "tags": []
   },
   "outputs": [
    {
     "data": {
      "text/html": [
       "<div>\n",
       "<style scoped>\n",
       "    .dataframe tbody tr th:only-of-type {\n",
       "        vertical-align: middle;\n",
       "    }\n",
       "\n",
       "    .dataframe tbody tr th {\n",
       "        vertical-align: top;\n",
       "    }\n",
       "\n",
       "    .dataframe thead th {\n",
       "        text-align: right;\n",
       "    }\n",
       "</style>\n",
       "<table border=\"1\" class=\"dataframe\">\n",
       "  <thead>\n",
       "    <tr style=\"text-align: right;\">\n",
       "      <th></th>\n",
       "      <th>date</th>\n",
       "      <th>variable</th>\n",
       "      <th>value</th>\n",
       "    </tr>\n",
       "  </thead>\n",
       "  <tbody>\n",
       "    <tr>\n",
       "      <th>0</th>\n",
       "      <td>2000-01-03</td>\n",
       "      <td>A</td>\n",
       "      <td>-0.784308</td>\n",
       "    </tr>\n",
       "    <tr>\n",
       "      <th>1</th>\n",
       "      <td>2000-01-04</td>\n",
       "      <td>A</td>\n",
       "      <td>0.981071</td>\n",
       "    </tr>\n",
       "    <tr>\n",
       "      <th>2</th>\n",
       "      <td>2000-01-05</td>\n",
       "      <td>A</td>\n",
       "      <td>-1.227100</td>\n",
       "    </tr>\n",
       "    <tr>\n",
       "      <th>3</th>\n",
       "      <td>2000-01-06</td>\n",
       "      <td>A</td>\n",
       "      <td>-0.275267</td>\n",
       "    </tr>\n",
       "    <tr>\n",
       "      <th>4</th>\n",
       "      <td>2000-01-07</td>\n",
       "      <td>A</td>\n",
       "      <td>-0.058427</td>\n",
       "    </tr>\n",
       "    <tr>\n",
       "      <th>...</th>\n",
       "      <td>...</td>\n",
       "      <td>...</td>\n",
       "      <td>...</td>\n",
       "    </tr>\n",
       "    <tr>\n",
       "      <th>115</th>\n",
       "      <td>2000-02-07</td>\n",
       "      <td>D</td>\n",
       "      <td>0.937578</td>\n",
       "    </tr>\n",
       "    <tr>\n",
       "      <th>116</th>\n",
       "      <td>2000-02-08</td>\n",
       "      <td>D</td>\n",
       "      <td>-0.476197</td>\n",
       "    </tr>\n",
       "    <tr>\n",
       "      <th>117</th>\n",
       "      <td>2000-02-09</td>\n",
       "      <td>D</td>\n",
       "      <td>1.363299</td>\n",
       "    </tr>\n",
       "    <tr>\n",
       "      <th>118</th>\n",
       "      <td>2000-02-10</td>\n",
       "      <td>D</td>\n",
       "      <td>2.152549</td>\n",
       "    </tr>\n",
       "    <tr>\n",
       "      <th>119</th>\n",
       "      <td>2000-02-11</td>\n",
       "      <td>D</td>\n",
       "      <td>-1.950364</td>\n",
       "    </tr>\n",
       "  </tbody>\n",
       "</table>\n",
       "<p>120 rows × 3 columns</p>\n",
       "</div>"
      ],
      "text/plain": [
       "          date variable     value\n",
       "0   2000-01-03        A -0.784308\n",
       "1   2000-01-04        A  0.981071\n",
       "2   2000-01-05        A -1.227100\n",
       "3   2000-01-06        A -0.275267\n",
       "4   2000-01-07        A -0.058427\n",
       "..         ...      ...       ...\n",
       "115 2000-02-07        D  0.937578\n",
       "116 2000-02-08        D -0.476197\n",
       "117 2000-02-09        D  1.363299\n",
       "118 2000-02-10        D  2.152549\n",
       "119 2000-02-11        D -1.950364\n",
       "\n",
       "[120 rows x 3 columns]"
      ]
     },
     "execution_count": 3,
     "metadata": {},
     "output_type": "execute_result"
    }
   ],
   "source": [
    "dframe"
   ]
  },
  {
   "cell_type": "code",
   "execution_count": 4,
   "id": "c96de7cb",
   "metadata": {
    "execution": {
     "iopub.execute_input": "2022-04-05T04:13:39.979748Z",
     "iopub.status.busy": "2022-04-05T04:13:39.977872Z",
     "iopub.status.idle": "2022-04-05T04:13:39.982619Z",
     "shell.execute_reply": "2022-04-05T04:13:39.981975Z"
    },
    "papermill": {
     "duration": 0.078571,
     "end_time": "2022-04-05T04:13:39.982787",
     "exception": false,
     "start_time": "2022-04-05T04:13:39.904216",
     "status": "completed"
    },
    "tags": []
   },
   "outputs": [],
   "source": [
    "dframep=dframe.pivot('date','variable','value')"
   ]
  },
  {
   "cell_type": "code",
   "execution_count": 5,
   "id": "6067a74c",
   "metadata": {
    "execution": {
     "iopub.execute_input": "2022-04-05T04:13:40.116976Z",
     "iopub.status.busy": "2022-04-05T04:13:40.116380Z",
     "iopub.status.idle": "2022-04-05T04:13:40.130392Z",
     "shell.execute_reply": "2022-04-05T04:13:40.129863Z"
    },
    "papermill": {
     "duration": 0.082276,
     "end_time": "2022-04-05T04:13:40.130532",
     "exception": false,
     "start_time": "2022-04-05T04:13:40.048256",
     "status": "completed"
    },
    "tags": []
   },
   "outputs": [
    {
     "data": {
      "text/html": [
       "<div>\n",
       "<style scoped>\n",
       "    .dataframe tbody tr th:only-of-type {\n",
       "        vertical-align: middle;\n",
       "    }\n",
       "\n",
       "    .dataframe tbody tr th {\n",
       "        vertical-align: top;\n",
       "    }\n",
       "\n",
       "    .dataframe thead th {\n",
       "        text-align: right;\n",
       "    }\n",
       "</style>\n",
       "<table border=\"1\" class=\"dataframe\">\n",
       "  <thead>\n",
       "    <tr style=\"text-align: right;\">\n",
       "      <th>variable</th>\n",
       "      <th>A</th>\n",
       "      <th>B</th>\n",
       "      <th>C</th>\n",
       "      <th>D</th>\n",
       "    </tr>\n",
       "    <tr>\n",
       "      <th>date</th>\n",
       "      <th></th>\n",
       "      <th></th>\n",
       "      <th></th>\n",
       "      <th></th>\n",
       "    </tr>\n",
       "  </thead>\n",
       "  <tbody>\n",
       "    <tr>\n",
       "      <th>2000-01-03</th>\n",
       "      <td>-0.784308</td>\n",
       "      <td>-1.973340</td>\n",
       "      <td>0.303256</td>\n",
       "      <td>0.004070</td>\n",
       "    </tr>\n",
       "    <tr>\n",
       "      <th>2000-01-04</th>\n",
       "      <td>0.981071</td>\n",
       "      <td>-0.314386</td>\n",
       "      <td>-0.490489</td>\n",
       "      <td>1.899345</td>\n",
       "    </tr>\n",
       "    <tr>\n",
       "      <th>2000-01-05</th>\n",
       "      <td>-1.227100</td>\n",
       "      <td>0.906371</td>\n",
       "      <td>-0.597407</td>\n",
       "      <td>-1.024903</td>\n",
       "    </tr>\n",
       "    <tr>\n",
       "      <th>2000-01-06</th>\n",
       "      <td>-0.275267</td>\n",
       "      <td>-0.957482</td>\n",
       "      <td>-0.919829</td>\n",
       "      <td>0.469922</td>\n",
       "    </tr>\n",
       "    <tr>\n",
       "      <th>2000-01-07</th>\n",
       "      <td>-0.058427</td>\n",
       "      <td>-1.376843</td>\n",
       "      <td>-0.039013</td>\n",
       "      <td>0.939377</td>\n",
       "    </tr>\n",
       "    <tr>\n",
       "      <th>2000-01-10</th>\n",
       "      <td>0.408431</td>\n",
       "      <td>1.078119</td>\n",
       "      <td>-1.939278</td>\n",
       "      <td>-0.441831</td>\n",
       "    </tr>\n",
       "    <tr>\n",
       "      <th>2000-01-11</th>\n",
       "      <td>-0.371141</td>\n",
       "      <td>0.561384</td>\n",
       "      <td>0.471278</td>\n",
       "      <td>-0.989034</td>\n",
       "    </tr>\n",
       "    <tr>\n",
       "      <th>2000-01-12</th>\n",
       "      <td>0.952513</td>\n",
       "      <td>-0.402452</td>\n",
       "      <td>0.269427</td>\n",
       "      <td>1.792958</td>\n",
       "    </tr>\n",
       "    <tr>\n",
       "      <th>2000-01-13</th>\n",
       "      <td>-1.003311</td>\n",
       "      <td>0.793201</td>\n",
       "      <td>-1.977063</td>\n",
       "      <td>0.287007</td>\n",
       "    </tr>\n",
       "    <tr>\n",
       "      <th>2000-01-14</th>\n",
       "      <td>-0.380847</td>\n",
       "      <td>-0.529113</td>\n",
       "      <td>1.148369</td>\n",
       "      <td>0.452293</td>\n",
       "    </tr>\n",
       "    <tr>\n",
       "      <th>2000-01-17</th>\n",
       "      <td>1.078321</td>\n",
       "      <td>0.434471</td>\n",
       "      <td>0.477463</td>\n",
       "      <td>-1.506563</td>\n",
       "    </tr>\n",
       "    <tr>\n",
       "      <th>2000-01-18</th>\n",
       "      <td>-2.741120</td>\n",
       "      <td>0.418776</td>\n",
       "      <td>2.182624</td>\n",
       "      <td>0.523901</td>\n",
       "    </tr>\n",
       "    <tr>\n",
       "      <th>2000-01-19</th>\n",
       "      <td>-0.224108</td>\n",
       "      <td>-0.022803</td>\n",
       "      <td>-0.080120</td>\n",
       "      <td>-0.368054</td>\n",
       "    </tr>\n",
       "    <tr>\n",
       "      <th>2000-01-20</th>\n",
       "      <td>-0.650212</td>\n",
       "      <td>-0.501832</td>\n",
       "      <td>0.902178</td>\n",
       "      <td>-0.898459</td>\n",
       "    </tr>\n",
       "    <tr>\n",
       "      <th>2000-01-21</th>\n",
       "      <td>1.876611</td>\n",
       "      <td>0.788682</td>\n",
       "      <td>-0.338512</td>\n",
       "      <td>0.463813</td>\n",
       "    </tr>\n",
       "    <tr>\n",
       "      <th>2000-01-24</th>\n",
       "      <td>1.271763</td>\n",
       "      <td>0.306680</td>\n",
       "      <td>0.952640</td>\n",
       "      <td>-0.935694</td>\n",
       "    </tr>\n",
       "    <tr>\n",
       "      <th>2000-01-25</th>\n",
       "      <td>-1.046564</td>\n",
       "      <td>-0.130641</td>\n",
       "      <td>0.274765</td>\n",
       "      <td>-1.549570</td>\n",
       "    </tr>\n",
       "    <tr>\n",
       "      <th>2000-01-26</th>\n",
       "      <td>1.522112</td>\n",
       "      <td>0.980841</td>\n",
       "      <td>-1.436391</td>\n",
       "      <td>0.100696</td>\n",
       "    </tr>\n",
       "    <tr>\n",
       "      <th>2000-01-27</th>\n",
       "      <td>1.029829</td>\n",
       "      <td>0.738348</td>\n",
       "      <td>-0.525183</td>\n",
       "      <td>0.313546</td>\n",
       "    </tr>\n",
       "    <tr>\n",
       "      <th>2000-01-28</th>\n",
       "      <td>-1.466593</td>\n",
       "      <td>-0.448715</td>\n",
       "      <td>0.684518</td>\n",
       "      <td>-0.737475</td>\n",
       "    </tr>\n",
       "    <tr>\n",
       "      <th>2000-01-31</th>\n",
       "      <td>-0.485168</td>\n",
       "      <td>0.590474</td>\n",
       "      <td>-1.478209</td>\n",
       "      <td>-0.277065</td>\n",
       "    </tr>\n",
       "    <tr>\n",
       "      <th>2000-02-01</th>\n",
       "      <td>-0.128783</td>\n",
       "      <td>-0.060454</td>\n",
       "      <td>0.203205</td>\n",
       "      <td>0.492956</td>\n",
       "    </tr>\n",
       "    <tr>\n",
       "      <th>2000-02-02</th>\n",
       "      <td>2.965865</td>\n",
       "      <td>-0.399055</td>\n",
       "      <td>0.011603</td>\n",
       "      <td>2.040890</td>\n",
       "    </tr>\n",
       "    <tr>\n",
       "      <th>2000-02-03</th>\n",
       "      <td>-0.079622</td>\n",
       "      <td>-0.145545</td>\n",
       "      <td>0.587593</td>\n",
       "      <td>2.044133</td>\n",
       "    </tr>\n",
       "    <tr>\n",
       "      <th>2000-02-04</th>\n",
       "      <td>-0.659442</td>\n",
       "      <td>2.629541</td>\n",
       "      <td>0.776478</td>\n",
       "      <td>-0.160965</td>\n",
       "    </tr>\n",
       "    <tr>\n",
       "      <th>2000-02-07</th>\n",
       "      <td>1.479697</td>\n",
       "      <td>-0.390741</td>\n",
       "      <td>-0.855916</td>\n",
       "      <td>0.937578</td>\n",
       "    </tr>\n",
       "    <tr>\n",
       "      <th>2000-02-08</th>\n",
       "      <td>-0.618020</td>\n",
       "      <td>0.131094</td>\n",
       "      <td>1.102696</td>\n",
       "      <td>-0.476197</td>\n",
       "    </tr>\n",
       "    <tr>\n",
       "      <th>2000-02-09</th>\n",
       "      <td>-1.028730</td>\n",
       "      <td>0.105704</td>\n",
       "      <td>0.883444</td>\n",
       "      <td>1.363299</td>\n",
       "    </tr>\n",
       "    <tr>\n",
       "      <th>2000-02-10</th>\n",
       "      <td>-0.653769</td>\n",
       "      <td>-0.050277</td>\n",
       "      <td>-0.197434</td>\n",
       "      <td>2.152549</td>\n",
       "    </tr>\n",
       "    <tr>\n",
       "      <th>2000-02-11</th>\n",
       "      <td>-0.432332</td>\n",
       "      <td>1.294754</td>\n",
       "      <td>-1.697807</td>\n",
       "      <td>-1.950364</td>\n",
       "    </tr>\n",
       "  </tbody>\n",
       "</table>\n",
       "</div>"
      ],
      "text/plain": [
       "variable           A         B         C         D\n",
       "date                                              \n",
       "2000-01-03 -0.784308 -1.973340  0.303256  0.004070\n",
       "2000-01-04  0.981071 -0.314386 -0.490489  1.899345\n",
       "2000-01-05 -1.227100  0.906371 -0.597407 -1.024903\n",
       "2000-01-06 -0.275267 -0.957482 -0.919829  0.469922\n",
       "2000-01-07 -0.058427 -1.376843 -0.039013  0.939377\n",
       "2000-01-10  0.408431  1.078119 -1.939278 -0.441831\n",
       "2000-01-11 -0.371141  0.561384  0.471278 -0.989034\n",
       "2000-01-12  0.952513 -0.402452  0.269427  1.792958\n",
       "2000-01-13 -1.003311  0.793201 -1.977063  0.287007\n",
       "2000-01-14 -0.380847 -0.529113  1.148369  0.452293\n",
       "2000-01-17  1.078321  0.434471  0.477463 -1.506563\n",
       "2000-01-18 -2.741120  0.418776  2.182624  0.523901\n",
       "2000-01-19 -0.224108 -0.022803 -0.080120 -0.368054\n",
       "2000-01-20 -0.650212 -0.501832  0.902178 -0.898459\n",
       "2000-01-21  1.876611  0.788682 -0.338512  0.463813\n",
       "2000-01-24  1.271763  0.306680  0.952640 -0.935694\n",
       "2000-01-25 -1.046564 -0.130641  0.274765 -1.549570\n",
       "2000-01-26  1.522112  0.980841 -1.436391  0.100696\n",
       "2000-01-27  1.029829  0.738348 -0.525183  0.313546\n",
       "2000-01-28 -1.466593 -0.448715  0.684518 -0.737475\n",
       "2000-01-31 -0.485168  0.590474 -1.478209 -0.277065\n",
       "2000-02-01 -0.128783 -0.060454  0.203205  0.492956\n",
       "2000-02-02  2.965865 -0.399055  0.011603  2.040890\n",
       "2000-02-03 -0.079622 -0.145545  0.587593  2.044133\n",
       "2000-02-04 -0.659442  2.629541  0.776478 -0.160965\n",
       "2000-02-07  1.479697 -0.390741 -0.855916  0.937578\n",
       "2000-02-08 -0.618020  0.131094  1.102696 -0.476197\n",
       "2000-02-09 -1.028730  0.105704  0.883444  1.363299\n",
       "2000-02-10 -0.653769 -0.050277 -0.197434  2.152549\n",
       "2000-02-11 -0.432332  1.294754 -1.697807 -1.950364"
      ]
     },
     "execution_count": 5,
     "metadata": {},
     "output_type": "execute_result"
    }
   ],
   "source": [
    "dframep"
   ]
  },
  {
   "cell_type": "code",
   "execution_count": 6,
   "id": "c7c61e6e",
   "metadata": {
    "execution": {
     "iopub.execute_input": "2022-04-05T04:13:40.270365Z",
     "iopub.status.busy": "2022-04-05T04:13:40.269713Z",
     "iopub.status.idle": "2022-04-05T04:13:40.271578Z",
     "shell.execute_reply": "2022-04-05T04:13:40.271035Z"
    },
    "papermill": {
     "duration": 0.073247,
     "end_time": "2022-04-05T04:13:40.271734",
     "exception": false,
     "start_time": "2022-04-05T04:13:40.198487",
     "status": "completed"
    },
    "tags": []
   },
   "outputs": [],
   "source": [
    "dframe=DataFrame({'key1':['A']*2+['B']*3,\n",
    "                 'key2':[2,2,2,3,3]})"
   ]
  },
  {
   "cell_type": "code",
   "execution_count": 7,
   "id": "dac03cd7",
   "metadata": {
    "execution": {
     "iopub.execute_input": "2022-04-05T04:13:40.412078Z",
     "iopub.status.busy": "2022-04-05T04:13:40.411460Z",
     "iopub.status.idle": "2022-04-05T04:13:40.414808Z",
     "shell.execute_reply": "2022-04-05T04:13:40.415344Z"
    },
    "papermill": {
     "duration": 0.077216,
     "end_time": "2022-04-05T04:13:40.415516",
     "exception": false,
     "start_time": "2022-04-05T04:13:40.338300",
     "status": "completed"
    },
    "tags": []
   },
   "outputs": [
    {
     "data": {
      "text/html": [
       "<div>\n",
       "<style scoped>\n",
       "    .dataframe tbody tr th:only-of-type {\n",
       "        vertical-align: middle;\n",
       "    }\n",
       "\n",
       "    .dataframe tbody tr th {\n",
       "        vertical-align: top;\n",
       "    }\n",
       "\n",
       "    .dataframe thead th {\n",
       "        text-align: right;\n",
       "    }\n",
       "</style>\n",
       "<table border=\"1\" class=\"dataframe\">\n",
       "  <thead>\n",
       "    <tr style=\"text-align: right;\">\n",
       "      <th></th>\n",
       "      <th>key1</th>\n",
       "      <th>key2</th>\n",
       "    </tr>\n",
       "  </thead>\n",
       "  <tbody>\n",
       "    <tr>\n",
       "      <th>0</th>\n",
       "      <td>A</td>\n",
       "      <td>2</td>\n",
       "    </tr>\n",
       "    <tr>\n",
       "      <th>1</th>\n",
       "      <td>A</td>\n",
       "      <td>2</td>\n",
       "    </tr>\n",
       "    <tr>\n",
       "      <th>2</th>\n",
       "      <td>B</td>\n",
       "      <td>2</td>\n",
       "    </tr>\n",
       "    <tr>\n",
       "      <th>3</th>\n",
       "      <td>B</td>\n",
       "      <td>3</td>\n",
       "    </tr>\n",
       "    <tr>\n",
       "      <th>4</th>\n",
       "      <td>B</td>\n",
       "      <td>3</td>\n",
       "    </tr>\n",
       "  </tbody>\n",
       "</table>\n",
       "</div>"
      ],
      "text/plain": [
       "  key1  key2\n",
       "0    A     2\n",
       "1    A     2\n",
       "2    B     2\n",
       "3    B     3\n",
       "4    B     3"
      ]
     },
     "execution_count": 7,
     "metadata": {},
     "output_type": "execute_result"
    }
   ],
   "source": [
    "dframe"
   ]
  },
  {
   "cell_type": "code",
   "execution_count": 8,
   "id": "9bd8a0a4",
   "metadata": {
    "execution": {
     "iopub.execute_input": "2022-04-05T04:13:40.555022Z",
     "iopub.status.busy": "2022-04-05T04:13:40.554199Z",
     "iopub.status.idle": "2022-04-05T04:13:40.563458Z",
     "shell.execute_reply": "2022-04-05T04:13:40.562860Z"
    },
    "papermill": {
     "duration": 0.08002,
     "end_time": "2022-04-05T04:13:40.563590",
     "exception": false,
     "start_time": "2022-04-05T04:13:40.483570",
     "status": "completed"
    },
    "tags": []
   },
   "outputs": [
    {
     "data": {
      "text/plain": [
       "0    False\n",
       "1     True\n",
       "2    False\n",
       "3    False\n",
       "4     True\n",
       "dtype: bool"
      ]
     },
     "execution_count": 8,
     "metadata": {},
     "output_type": "execute_result"
    }
   ],
   "source": [
    "dframe.duplicated()"
   ]
  },
  {
   "cell_type": "code",
   "execution_count": 9,
   "id": "ced323ce",
   "metadata": {
    "execution": {
     "iopub.execute_input": "2022-04-05T04:13:40.704102Z",
     "iopub.status.busy": "2022-04-05T04:13:40.703328Z",
     "iopub.status.idle": "2022-04-05T04:13:40.711321Z",
     "shell.execute_reply": "2022-04-05T04:13:40.711921Z"
    },
    "papermill": {
     "duration": 0.079469,
     "end_time": "2022-04-05T04:13:40.712076",
     "exception": false,
     "start_time": "2022-04-05T04:13:40.632607",
     "status": "completed"
    },
    "tags": []
   },
   "outputs": [
    {
     "data": {
      "text/html": [
       "<div>\n",
       "<style scoped>\n",
       "    .dataframe tbody tr th:only-of-type {\n",
       "        vertical-align: middle;\n",
       "    }\n",
       "\n",
       "    .dataframe tbody tr th {\n",
       "        vertical-align: top;\n",
       "    }\n",
       "\n",
       "    .dataframe thead th {\n",
       "        text-align: right;\n",
       "    }\n",
       "</style>\n",
       "<table border=\"1\" class=\"dataframe\">\n",
       "  <thead>\n",
       "    <tr style=\"text-align: right;\">\n",
       "      <th></th>\n",
       "      <th>key1</th>\n",
       "      <th>key2</th>\n",
       "    </tr>\n",
       "  </thead>\n",
       "  <tbody>\n",
       "    <tr>\n",
       "      <th>0</th>\n",
       "      <td>A</td>\n",
       "      <td>2</td>\n",
       "    </tr>\n",
       "    <tr>\n",
       "      <th>2</th>\n",
       "      <td>B</td>\n",
       "      <td>2</td>\n",
       "    </tr>\n",
       "    <tr>\n",
       "      <th>3</th>\n",
       "      <td>B</td>\n",
       "      <td>3</td>\n",
       "    </tr>\n",
       "  </tbody>\n",
       "</table>\n",
       "</div>"
      ],
      "text/plain": [
       "  key1  key2\n",
       "0    A     2\n",
       "2    B     2\n",
       "3    B     3"
      ]
     },
     "execution_count": 9,
     "metadata": {},
     "output_type": "execute_result"
    }
   ],
   "source": [
    "dframe.drop_duplicates()"
   ]
  },
  {
   "cell_type": "code",
   "execution_count": 10,
   "id": "5afccb04",
   "metadata": {
    "execution": {
     "iopub.execute_input": "2022-04-05T04:13:40.853041Z",
     "iopub.status.busy": "2022-04-05T04:13:40.852256Z",
     "iopub.status.idle": "2022-04-05T04:13:40.861687Z",
     "shell.execute_reply": "2022-04-05T04:13:40.861037Z"
    },
    "papermill": {
     "duration": 0.080699,
     "end_time": "2022-04-05T04:13:40.861837",
     "exception": false,
     "start_time": "2022-04-05T04:13:40.781138",
     "status": "completed"
    },
    "tags": []
   },
   "outputs": [
    {
     "data": {
      "text/html": [
       "<div>\n",
       "<style scoped>\n",
       "    .dataframe tbody tr th:only-of-type {\n",
       "        vertical-align: middle;\n",
       "    }\n",
       "\n",
       "    .dataframe tbody tr th {\n",
       "        vertical-align: top;\n",
       "    }\n",
       "\n",
       "    .dataframe thead th {\n",
       "        text-align: right;\n",
       "    }\n",
       "</style>\n",
       "<table border=\"1\" class=\"dataframe\">\n",
       "  <thead>\n",
       "    <tr style=\"text-align: right;\">\n",
       "      <th></th>\n",
       "      <th>key1</th>\n",
       "      <th>key2</th>\n",
       "    </tr>\n",
       "  </thead>\n",
       "  <tbody>\n",
       "    <tr>\n",
       "      <th>0</th>\n",
       "      <td>A</td>\n",
       "      <td>2</td>\n",
       "    </tr>\n",
       "    <tr>\n",
       "      <th>2</th>\n",
       "      <td>B</td>\n",
       "      <td>2</td>\n",
       "    </tr>\n",
       "  </tbody>\n",
       "</table>\n",
       "</div>"
      ],
      "text/plain": [
       "  key1  key2\n",
       "0    A     2\n",
       "2    B     2"
      ]
     },
     "execution_count": 10,
     "metadata": {},
     "output_type": "execute_result"
    }
   ],
   "source": [
    "dframe.drop_duplicates('key1')"
   ]
  },
  {
   "cell_type": "code",
   "execution_count": 11,
   "id": "9d13e137",
   "metadata": {
    "execution": {
     "iopub.execute_input": "2022-04-05T04:13:41.007080Z",
     "iopub.status.busy": "2022-04-05T04:13:41.006244Z",
     "iopub.status.idle": "2022-04-05T04:13:41.014862Z",
     "shell.execute_reply": "2022-04-05T04:13:41.015395Z"
    },
    "papermill": {
     "duration": 0.082149,
     "end_time": "2022-04-05T04:13:41.015556",
     "exception": false,
     "start_time": "2022-04-05T04:13:40.933407",
     "status": "completed"
    },
    "tags": []
   },
   "outputs": [
    {
     "data": {
      "text/html": [
       "<div>\n",
       "<style scoped>\n",
       "    .dataframe tbody tr th:only-of-type {\n",
       "        vertical-align: middle;\n",
       "    }\n",
       "\n",
       "    .dataframe tbody tr th {\n",
       "        vertical-align: top;\n",
       "    }\n",
       "\n",
       "    .dataframe thead th {\n",
       "        text-align: right;\n",
       "    }\n",
       "</style>\n",
       "<table border=\"1\" class=\"dataframe\">\n",
       "  <thead>\n",
       "    <tr style=\"text-align: right;\">\n",
       "      <th></th>\n",
       "      <th>key1</th>\n",
       "      <th>key2</th>\n",
       "    </tr>\n",
       "  </thead>\n",
       "  <tbody>\n",
       "    <tr>\n",
       "      <th>1</th>\n",
       "      <td>A</td>\n",
       "      <td>2</td>\n",
       "    </tr>\n",
       "    <tr>\n",
       "      <th>4</th>\n",
       "      <td>B</td>\n",
       "      <td>3</td>\n",
       "    </tr>\n",
       "  </tbody>\n",
       "</table>\n",
       "</div>"
      ],
      "text/plain": [
       "  key1  key2\n",
       "1    A     2\n",
       "4    B     3"
      ]
     },
     "execution_count": 11,
     "metadata": {},
     "output_type": "execute_result"
    }
   ],
   "source": [
    "dframe.drop_duplicates(['key1'],keep='last') #only the last unique value of key1 is kept"
   ]
  },
  {
   "cell_type": "code",
   "execution_count": 12,
   "id": "08e95a9c",
   "metadata": {
    "execution": {
     "iopub.execute_input": "2022-04-05T04:13:41.164020Z",
     "iopub.status.busy": "2022-04-05T04:13:41.163291Z",
     "iopub.status.idle": "2022-04-05T04:13:41.165293Z",
     "shell.execute_reply": "2022-04-05T04:13:41.165863Z"
    },
    "papermill": {
     "duration": 0.078908,
     "end_time": "2022-04-05T04:13:41.166031",
     "exception": false,
     "start_time": "2022-04-05T04:13:41.087123",
     "status": "completed"
    },
    "tags": []
   },
   "outputs": [],
   "source": [
    "dframem=DataFrame({'city':['Alma','Brian Head','Fox Park'],\n",
    "                  'altitude':[3158,3000,2762]})"
   ]
  },
  {
   "cell_type": "code",
   "execution_count": 13,
   "id": "603aed27",
   "metadata": {
    "execution": {
     "iopub.execute_input": "2022-04-05T04:13:41.317404Z",
     "iopub.status.busy": "2022-04-05T04:13:41.316723Z",
     "iopub.status.idle": "2022-04-05T04:13:41.319726Z",
     "shell.execute_reply": "2022-04-05T04:13:41.320231Z"
    },
    "papermill": {
     "duration": 0.082621,
     "end_time": "2022-04-05T04:13:41.320388",
     "exception": false,
     "start_time": "2022-04-05T04:13:41.237767",
     "status": "completed"
    },
    "tags": []
   },
   "outputs": [
    {
     "data": {
      "text/html": [
       "<div>\n",
       "<style scoped>\n",
       "    .dataframe tbody tr th:only-of-type {\n",
       "        vertical-align: middle;\n",
       "    }\n",
       "\n",
       "    .dataframe tbody tr th {\n",
       "        vertical-align: top;\n",
       "    }\n",
       "\n",
       "    .dataframe thead th {\n",
       "        text-align: right;\n",
       "    }\n",
       "</style>\n",
       "<table border=\"1\" class=\"dataframe\">\n",
       "  <thead>\n",
       "    <tr style=\"text-align: right;\">\n",
       "      <th></th>\n",
       "      <th>city</th>\n",
       "      <th>altitude</th>\n",
       "    </tr>\n",
       "  </thead>\n",
       "  <tbody>\n",
       "    <tr>\n",
       "      <th>0</th>\n",
       "      <td>Alma</td>\n",
       "      <td>3158</td>\n",
       "    </tr>\n",
       "    <tr>\n",
       "      <th>1</th>\n",
       "      <td>Brian Head</td>\n",
       "      <td>3000</td>\n",
       "    </tr>\n",
       "    <tr>\n",
       "      <th>2</th>\n",
       "      <td>Fox Park</td>\n",
       "      <td>2762</td>\n",
       "    </tr>\n",
       "  </tbody>\n",
       "</table>\n",
       "</div>"
      ],
      "text/plain": [
       "         city  altitude\n",
       "0        Alma      3158\n",
       "1  Brian Head      3000\n",
       "2    Fox Park      2762"
      ]
     },
     "execution_count": 13,
     "metadata": {},
     "output_type": "execute_result"
    }
   ],
   "source": [
    "dframem"
   ]
  },
  {
   "cell_type": "code",
   "execution_count": 14,
   "id": "30b5a9ba",
   "metadata": {
    "execution": {
     "iopub.execute_input": "2022-04-05T04:13:41.467987Z",
     "iopub.status.busy": "2022-04-05T04:13:41.467167Z",
     "iopub.status.idle": "2022-04-05T04:13:41.470120Z",
     "shell.execute_reply": "2022-04-05T04:13:41.470713Z"
    },
    "papermill": {
     "duration": 0.07791,
     "end_time": "2022-04-05T04:13:41.470874",
     "exception": false,
     "start_time": "2022-04-05T04:13:41.392964",
     "status": "completed"
    },
    "tags": []
   },
   "outputs": [],
   "source": [
    "statem={'Alma':'Colorado','Brian Head':'Utah','Fox Park':'Wyoming'}"
   ]
  },
  {
   "cell_type": "code",
   "execution_count": 15,
   "id": "10fa6fd7",
   "metadata": {
    "execution": {
     "iopub.execute_input": "2022-04-05T04:13:41.620231Z",
     "iopub.status.busy": "2022-04-05T04:13:41.619381Z",
     "iopub.status.idle": "2022-04-05T04:13:41.623929Z",
     "shell.execute_reply": "2022-04-05T04:13:41.624395Z"
    },
    "papermill": {
     "duration": 0.080792,
     "end_time": "2022-04-05T04:13:41.624575",
     "exception": false,
     "start_time": "2022-04-05T04:13:41.543783",
     "status": "completed"
    },
    "tags": []
   },
   "outputs": [],
   "source": [
    "dframem['state']=dframem['city'].map(statem)"
   ]
  },
  {
   "cell_type": "code",
   "execution_count": 16,
   "id": "2a874c48",
   "metadata": {
    "execution": {
     "iopub.execute_input": "2022-04-05T04:13:41.771213Z",
     "iopub.status.busy": "2022-04-05T04:13:41.770610Z",
     "iopub.status.idle": "2022-04-05T04:13:41.773943Z",
     "shell.execute_reply": "2022-04-05T04:13:41.774596Z"
    },
    "papermill": {
     "duration": 0.078063,
     "end_time": "2022-04-05T04:13:41.774781",
     "exception": false,
     "start_time": "2022-04-05T04:13:41.696718",
     "status": "completed"
    },
    "tags": []
   },
   "outputs": [],
   "source": [
    "dframem.index=['City1','City2','City3']"
   ]
  },
  {
   "cell_type": "code",
   "execution_count": 17,
   "id": "ecd90fbe",
   "metadata": {
    "execution": {
     "iopub.execute_input": "2022-04-05T04:13:41.920715Z",
     "iopub.status.busy": "2022-04-05T04:13:41.920105Z",
     "iopub.status.idle": "2022-04-05T04:13:41.928694Z",
     "shell.execute_reply": "2022-04-05T04:13:41.929096Z"
    },
    "papermill": {
     "duration": 0.082827,
     "end_time": "2022-04-05T04:13:41.929252",
     "exception": false,
     "start_time": "2022-04-05T04:13:41.846425",
     "status": "completed"
    },
    "tags": []
   },
   "outputs": [
    {
     "data": {
      "text/html": [
       "<div>\n",
       "<style scoped>\n",
       "    .dataframe tbody tr th:only-of-type {\n",
       "        vertical-align: middle;\n",
       "    }\n",
       "\n",
       "    .dataframe tbody tr th {\n",
       "        vertical-align: top;\n",
       "    }\n",
       "\n",
       "    .dataframe thead th {\n",
       "        text-align: right;\n",
       "    }\n",
       "</style>\n",
       "<table border=\"1\" class=\"dataframe\">\n",
       "  <thead>\n",
       "    <tr style=\"text-align: right;\">\n",
       "      <th></th>\n",
       "      <th>city</th>\n",
       "      <th>altitude</th>\n",
       "      <th>state</th>\n",
       "    </tr>\n",
       "  </thead>\n",
       "  <tbody>\n",
       "    <tr>\n",
       "      <th>City1</th>\n",
       "      <td>Alma</td>\n",
       "      <td>3158</td>\n",
       "      <td>Colorado</td>\n",
       "    </tr>\n",
       "    <tr>\n",
       "      <th>City2</th>\n",
       "      <td>Brian Head</td>\n",
       "      <td>3000</td>\n",
       "      <td>Utah</td>\n",
       "    </tr>\n",
       "    <tr>\n",
       "      <th>City3</th>\n",
       "      <td>Fox Park</td>\n",
       "      <td>2762</td>\n",
       "      <td>Wyoming</td>\n",
       "    </tr>\n",
       "  </tbody>\n",
       "</table>\n",
       "</div>"
      ],
      "text/plain": [
       "             city  altitude     state\n",
       "City1        Alma      3158  Colorado\n",
       "City2  Brian Head      3000      Utah\n",
       "City3    Fox Park      2762   Wyoming"
      ]
     },
     "execution_count": 17,
     "metadata": {},
     "output_type": "execute_result"
    }
   ],
   "source": [
    "dframem"
   ]
  },
  {
   "cell_type": "code",
   "execution_count": 18,
   "id": "c916aa51",
   "metadata": {
    "execution": {
     "iopub.execute_input": "2022-04-05T04:13:42.048039Z",
     "iopub.status.busy": "2022-04-05T04:13:42.047405Z",
     "iopub.status.idle": "2022-04-05T04:13:42.051482Z",
     "shell.execute_reply": "2022-04-05T04:13:42.050963Z"
    },
    "papermill": {
     "duration": 0.075108,
     "end_time": "2022-04-05T04:13:42.051607",
     "exception": false,
     "start_time": "2022-04-05T04:13:41.976499",
     "status": "completed"
    },
    "tags": []
   },
   "outputs": [
    {
     "data": {
      "text/plain": [
       "{'Alma': 'Colorado', 'Brian Head': 'Utah', 'Fox Park': 'Wyoming'}"
      ]
     },
     "execution_count": 18,
     "metadata": {},
     "output_type": "execute_result"
    }
   ],
   "source": [
    "statem"
   ]
  },
  {
   "cell_type": "code",
   "execution_count": 19,
   "id": "2942e886",
   "metadata": {
    "execution": {
     "iopub.execute_input": "2022-04-05T04:13:42.202112Z",
     "iopub.status.busy": "2022-04-05T04:13:42.201466Z",
     "iopub.status.idle": "2022-04-05T04:13:42.207268Z",
     "shell.execute_reply": "2022-04-05T04:13:42.207822Z"
    },
    "papermill": {
     "duration": 0.083168,
     "end_time": "2022-04-05T04:13:42.207982",
     "exception": false,
     "start_time": "2022-04-05T04:13:42.124814",
     "status": "completed"
    },
    "tags": []
   },
   "outputs": [],
   "source": [
    "ser=Series(np.arange(6),index=[['A']*3+['B']*3,[1,2,3,1,2,3]])"
   ]
  },
  {
   "cell_type": "code",
   "execution_count": 20,
   "id": "a46d9694",
   "metadata": {
    "execution": {
     "iopub.execute_input": "2022-04-05T04:13:42.357600Z",
     "iopub.status.busy": "2022-04-05T04:13:42.356980Z",
     "iopub.status.idle": "2022-04-05T04:13:42.363201Z",
     "shell.execute_reply": "2022-04-05T04:13:42.363840Z"
    },
    "papermill": {
     "duration": 0.082776,
     "end_time": "2022-04-05T04:13:42.364003",
     "exception": false,
     "start_time": "2022-04-05T04:13:42.281227",
     "status": "completed"
    },
    "tags": []
   },
   "outputs": [
    {
     "data": {
      "text/plain": [
       "A  1    0\n",
       "   2    1\n",
       "   3    2\n",
       "B  1    3\n",
       "   2    4\n",
       "   3    5\n",
       "dtype: int64"
      ]
     },
     "execution_count": 20,
     "metadata": {},
     "output_type": "execute_result"
    }
   ],
   "source": [
    "ser"
   ]
  },
  {
   "cell_type": "code",
   "execution_count": 21,
   "id": "6802b17b",
   "metadata": {
    "execution": {
     "iopub.execute_input": "2022-04-05T04:13:42.519935Z",
     "iopub.status.busy": "2022-04-05T04:13:42.519289Z",
     "iopub.status.idle": "2022-04-05T04:13:42.521781Z",
     "shell.execute_reply": "2022-04-05T04:13:42.522388Z"
    },
    "papermill": {
     "duration": 0.084314,
     "end_time": "2022-04-05T04:13:42.522544",
     "exception": false,
     "start_time": "2022-04-05T04:13:42.438230",
     "status": "completed"
    },
    "tags": []
   },
   "outputs": [
    {
     "data": {
      "text/plain": [
       "A  1    NaN\n",
       "   2    1.0\n",
       "   3    2.0\n",
       "B  1    7.0\n",
       "   2    4.0\n",
       "   3    5.0\n",
       "dtype: float64"
      ]
     },
     "execution_count": 21,
     "metadata": {},
     "output_type": "execute_result"
    }
   ],
   "source": [
    "ser.replace([0,3],[np.nan,7])"
   ]
  },
  {
   "cell_type": "code",
   "execution_count": 22,
   "id": "93f2823d",
   "metadata": {
    "execution": {
     "iopub.execute_input": "2022-04-05T04:13:42.678100Z",
     "iopub.status.busy": "2022-04-05T04:13:42.677444Z",
     "iopub.status.idle": "2022-04-05T04:13:42.685313Z",
     "shell.execute_reply": "2022-04-05T04:13:42.685945Z"
    },
    "papermill": {
     "duration": 0.087876,
     "end_time": "2022-04-05T04:13:42.686108",
     "exception": false,
     "start_time": "2022-04-05T04:13:42.598232",
     "status": "completed"
    },
    "tags": []
   },
   "outputs": [
    {
     "data": {
      "text/plain": [
       "A  1    NaN\n",
       "   2    1.0\n",
       "   3    2.0\n",
       "B  1    7.0\n",
       "   2    4.0\n",
       "   3    5.0\n",
       "dtype: float64"
      ]
     },
     "execution_count": 22,
     "metadata": {},
     "output_type": "execute_result"
    }
   ],
   "source": [
    "ser.replace({0:np.nan,3:7})"
   ]
  },
  {
   "cell_type": "code",
   "execution_count": 23,
   "id": "4d014ee3",
   "metadata": {
    "execution": {
     "iopub.execute_input": "2022-04-05T04:13:42.841589Z",
     "iopub.status.busy": "2022-04-05T04:13:42.840219Z",
     "iopub.status.idle": "2022-04-05T04:13:42.844469Z",
     "shell.execute_reply": "2022-04-05T04:13:42.845011Z"
    },
    "papermill": {
     "duration": 0.083145,
     "end_time": "2022-04-05T04:13:42.845192",
     "exception": false,
     "start_time": "2022-04-05T04:13:42.762047",
     "status": "completed"
    },
    "tags": []
   },
   "outputs": [],
   "source": [
    "dframem.index=dframem.index.map(str.lower)"
   ]
  },
  {
   "cell_type": "code",
   "execution_count": 24,
   "id": "1b0665cb",
   "metadata": {
    "execution": {
     "iopub.execute_input": "2022-04-05T04:13:43.002157Z",
     "iopub.status.busy": "2022-04-05T04:13:42.999442Z",
     "iopub.status.idle": "2022-04-05T04:13:43.007739Z",
     "shell.execute_reply": "2022-04-05T04:13:43.008312Z"
    },
    "papermill": {
     "duration": 0.087403,
     "end_time": "2022-04-05T04:13:43.008458",
     "exception": false,
     "start_time": "2022-04-05T04:13:42.921055",
     "status": "completed"
    },
    "tags": []
   },
   "outputs": [
    {
     "data": {
      "text/html": [
       "<div>\n",
       "<style scoped>\n",
       "    .dataframe tbody tr th:only-of-type {\n",
       "        vertical-align: middle;\n",
       "    }\n",
       "\n",
       "    .dataframe tbody tr th {\n",
       "        vertical-align: top;\n",
       "    }\n",
       "\n",
       "    .dataframe thead th {\n",
       "        text-align: right;\n",
       "    }\n",
       "</style>\n",
       "<table border=\"1\" class=\"dataframe\">\n",
       "  <thead>\n",
       "    <tr style=\"text-align: right;\">\n",
       "      <th></th>\n",
       "      <th>city</th>\n",
       "      <th>altitude</th>\n",
       "      <th>state</th>\n",
       "    </tr>\n",
       "  </thead>\n",
       "  <tbody>\n",
       "    <tr>\n",
       "      <th>city1</th>\n",
       "      <td>Alma</td>\n",
       "      <td>3158</td>\n",
       "      <td>Colorado</td>\n",
       "    </tr>\n",
       "    <tr>\n",
       "      <th>city2</th>\n",
       "      <td>Brian Head</td>\n",
       "      <td>3000</td>\n",
       "      <td>Utah</td>\n",
       "    </tr>\n",
       "    <tr>\n",
       "      <th>city3</th>\n",
       "      <td>Fox Park</td>\n",
       "      <td>2762</td>\n",
       "      <td>Wyoming</td>\n",
       "    </tr>\n",
       "  </tbody>\n",
       "</table>\n",
       "</div>"
      ],
      "text/plain": [
       "             city  altitude     state\n",
       "city1        Alma      3158  Colorado\n",
       "city2  Brian Head      3000      Utah\n",
       "city3    Fox Park      2762   Wyoming"
      ]
     },
     "execution_count": 24,
     "metadata": {},
     "output_type": "execute_result"
    }
   ],
   "source": [
    "dframem"
   ]
  },
  {
   "cell_type": "code",
   "execution_count": 25,
   "id": "95c1c5ab",
   "metadata": {
    "execution": {
     "iopub.execute_input": "2022-04-05T04:13:43.170848Z",
     "iopub.status.busy": "2022-04-05T04:13:43.170098Z",
     "iopub.status.idle": "2022-04-05T04:13:43.173735Z",
     "shell.execute_reply": "2022-04-05T04:13:43.174269Z"
    },
    "papermill": {
     "duration": 0.089844,
     "end_time": "2022-04-05T04:13:43.174427",
     "exception": false,
     "start_time": "2022-04-05T04:13:43.084583",
     "status": "completed"
    },
    "tags": []
   },
   "outputs": [
    {
     "data": {
      "text/html": [
       "<div>\n",
       "<style scoped>\n",
       "    .dataframe tbody tr th:only-of-type {\n",
       "        vertical-align: middle;\n",
       "    }\n",
       "\n",
       "    .dataframe tbody tr th {\n",
       "        vertical-align: top;\n",
       "    }\n",
       "\n",
       "    .dataframe thead th {\n",
       "        text-align: right;\n",
       "    }\n",
       "</style>\n",
       "<table border=\"1\" class=\"dataframe\">\n",
       "  <thead>\n",
       "    <tr style=\"text-align: right;\">\n",
       "      <th></th>\n",
       "      <th>CITY</th>\n",
       "      <th>ALTITUDE</th>\n",
       "      <th>STATE</th>\n",
       "    </tr>\n",
       "  </thead>\n",
       "  <tbody>\n",
       "    <tr>\n",
       "      <th>City1</th>\n",
       "      <td>Alma</td>\n",
       "      <td>3158</td>\n",
       "      <td>Colorado</td>\n",
       "    </tr>\n",
       "    <tr>\n",
       "      <th>City2</th>\n",
       "      <td>Brian Head</td>\n",
       "      <td>3000</td>\n",
       "      <td>Utah</td>\n",
       "    </tr>\n",
       "    <tr>\n",
       "      <th>City3</th>\n",
       "      <td>Fox Park</td>\n",
       "      <td>2762</td>\n",
       "      <td>Wyoming</td>\n",
       "    </tr>\n",
       "  </tbody>\n",
       "</table>\n",
       "</div>"
      ],
      "text/plain": [
       "             CITY  ALTITUDE     STATE\n",
       "City1        Alma      3158  Colorado\n",
       "City2  Brian Head      3000      Utah\n",
       "City3    Fox Park      2762   Wyoming"
      ]
     },
     "execution_count": 25,
     "metadata": {},
     "output_type": "execute_result"
    }
   ],
   "source": [
    "dframem.rename(index=str.title,columns=str.upper)"
   ]
  },
  {
   "cell_type": "code",
   "execution_count": 26,
   "id": "b4f46be2",
   "metadata": {
    "execution": {
     "iopub.execute_input": "2022-04-05T04:13:43.333336Z",
     "iopub.status.busy": "2022-04-05T04:13:43.332748Z",
     "iopub.status.idle": "2022-04-05T04:13:43.344596Z",
     "shell.execute_reply": "2022-04-05T04:13:43.344072Z"
    },
    "papermill": {
     "duration": 0.092701,
     "end_time": "2022-04-05T04:13:43.344755",
     "exception": false,
     "start_time": "2022-04-05T04:13:43.252054",
     "status": "completed"
    },
    "tags": []
   },
   "outputs": [
    {
     "data": {
      "text/html": [
       "<div>\n",
       "<style scoped>\n",
       "    .dataframe tbody tr th:only-of-type {\n",
       "        vertical-align: middle;\n",
       "    }\n",
       "\n",
       "    .dataframe tbody tr th {\n",
       "        vertical-align: top;\n",
       "    }\n",
       "\n",
       "    .dataframe thead th {\n",
       "        text-align: right;\n",
       "    }\n",
       "</style>\n",
       "<table border=\"1\" class=\"dataframe\">\n",
       "  <thead>\n",
       "    <tr style=\"text-align: right;\">\n",
       "      <th></th>\n",
       "      <th>Cities</th>\n",
       "      <th>altitude</th>\n",
       "      <th>state</th>\n",
       "    </tr>\n",
       "  </thead>\n",
       "  <tbody>\n",
       "    <tr>\n",
       "      <th>First</th>\n",
       "      <td>Alma</td>\n",
       "      <td>3158</td>\n",
       "      <td>Colorado</td>\n",
       "    </tr>\n",
       "    <tr>\n",
       "      <th>Second</th>\n",
       "      <td>Brian Head</td>\n",
       "      <td>3000</td>\n",
       "      <td>Utah</td>\n",
       "    </tr>\n",
       "    <tr>\n",
       "      <th>city3</th>\n",
       "      <td>Fox Park</td>\n",
       "      <td>2762</td>\n",
       "      <td>Wyoming</td>\n",
       "    </tr>\n",
       "  </tbody>\n",
       "</table>\n",
       "</div>"
      ],
      "text/plain": [
       "            Cities  altitude     state\n",
       "First         Alma      3158  Colorado\n",
       "Second  Brian Head      3000      Utah\n",
       "city3     Fox Park      2762   Wyoming"
      ]
     },
     "execution_count": 26,
     "metadata": {},
     "output_type": "execute_result"
    }
   ],
   "source": [
    "dframem.rename(index={'city1':'First','city2':'Second'},columns={'city':'Cities'})"
   ]
  },
  {
   "cell_type": "code",
   "execution_count": 27,
   "id": "f335e9ae",
   "metadata": {
    "execution": {
     "iopub.execute_input": "2022-04-05T04:13:43.511184Z",
     "iopub.status.busy": "2022-04-05T04:13:43.510533Z",
     "iopub.status.idle": "2022-04-05T04:13:43.517740Z",
     "shell.execute_reply": "2022-04-05T04:13:43.518208Z"
    },
    "papermill": {
     "duration": 0.091584,
     "end_time": "2022-04-05T04:13:43.518380",
     "exception": false,
     "start_time": "2022-04-05T04:13:43.426796",
     "status": "completed"
    },
    "tags": []
   },
   "outputs": [
    {
     "data": {
      "text/html": [
       "<div>\n",
       "<style scoped>\n",
       "    .dataframe tbody tr th:only-of-type {\n",
       "        vertical-align: middle;\n",
       "    }\n",
       "\n",
       "    .dataframe tbody tr th {\n",
       "        vertical-align: top;\n",
       "    }\n",
       "\n",
       "    .dataframe thead th {\n",
       "        text-align: right;\n",
       "    }\n",
       "</style>\n",
       "<table border=\"1\" class=\"dataframe\">\n",
       "  <thead>\n",
       "    <tr style=\"text-align: right;\">\n",
       "      <th></th>\n",
       "      <th>city</th>\n",
       "      <th>altitude</th>\n",
       "      <th>state</th>\n",
       "    </tr>\n",
       "  </thead>\n",
       "  <tbody>\n",
       "    <tr>\n",
       "      <th>city1</th>\n",
       "      <td>Alma</td>\n",
       "      <td>3158</td>\n",
       "      <td>Colorado</td>\n",
       "    </tr>\n",
       "    <tr>\n",
       "      <th>city2</th>\n",
       "      <td>Brian Head</td>\n",
       "      <td>3000</td>\n",
       "      <td>Utah</td>\n",
       "    </tr>\n",
       "    <tr>\n",
       "      <th>city3</th>\n",
       "      <td>Fox Park</td>\n",
       "      <td>2762</td>\n",
       "      <td>Wyoming</td>\n",
       "    </tr>\n",
       "  </tbody>\n",
       "</table>\n",
       "</div>"
      ],
      "text/plain": [
       "             city  altitude     state\n",
       "city1        Alma      3158  Colorado\n",
       "city2  Brian Head      3000      Utah\n",
       "city3    Fox Park      2762   Wyoming"
      ]
     },
     "execution_count": 27,
     "metadata": {},
     "output_type": "execute_result"
    }
   ],
   "source": [
    "dframem #original remains the same"
   ]
  },
  {
   "cell_type": "code",
   "execution_count": 28,
   "id": "ff734ec6",
   "metadata": {
    "execution": {
     "iopub.execute_input": "2022-04-05T04:13:43.685127Z",
     "iopub.status.busy": "2022-04-05T04:13:43.684469Z",
     "iopub.status.idle": "2022-04-05T04:13:43.686688Z",
     "shell.execute_reply": "2022-04-05T04:13:43.687297Z"
    },
    "papermill": {
     "duration": 0.089222,
     "end_time": "2022-04-05T04:13:43.687468",
     "exception": false,
     "start_time": "2022-04-05T04:13:43.598246",
     "status": "completed"
    },
    "tags": []
   },
   "outputs": [],
   "source": [
    "dframem.rename(index={'city1':'First','city2':'Second'},columns={'city':'Cities'},inplace=True) #now its permanent"
   ]
  },
  {
   "cell_type": "code",
   "execution_count": 29,
   "id": "995d4f3a",
   "metadata": {
    "execution": {
     "iopub.execute_input": "2022-04-05T04:13:43.851009Z",
     "iopub.status.busy": "2022-04-05T04:13:43.850405Z",
     "iopub.status.idle": "2022-04-05T04:13:43.858600Z",
     "shell.execute_reply": "2022-04-05T04:13:43.859202Z"
    },
    "papermill": {
     "duration": 0.091631,
     "end_time": "2022-04-05T04:13:43.859365",
     "exception": false,
     "start_time": "2022-04-05T04:13:43.767734",
     "status": "completed"
    },
    "tags": []
   },
   "outputs": [
    {
     "data": {
      "text/html": [
       "<div>\n",
       "<style scoped>\n",
       "    .dataframe tbody tr th:only-of-type {\n",
       "        vertical-align: middle;\n",
       "    }\n",
       "\n",
       "    .dataframe tbody tr th {\n",
       "        vertical-align: top;\n",
       "    }\n",
       "\n",
       "    .dataframe thead th {\n",
       "        text-align: right;\n",
       "    }\n",
       "</style>\n",
       "<table border=\"1\" class=\"dataframe\">\n",
       "  <thead>\n",
       "    <tr style=\"text-align: right;\">\n",
       "      <th></th>\n",
       "      <th>Cities</th>\n",
       "      <th>altitude</th>\n",
       "      <th>state</th>\n",
       "    </tr>\n",
       "  </thead>\n",
       "  <tbody>\n",
       "    <tr>\n",
       "      <th>First</th>\n",
       "      <td>Alma</td>\n",
       "      <td>3158</td>\n",
       "      <td>Colorado</td>\n",
       "    </tr>\n",
       "    <tr>\n",
       "      <th>Second</th>\n",
       "      <td>Brian Head</td>\n",
       "      <td>3000</td>\n",
       "      <td>Utah</td>\n",
       "    </tr>\n",
       "    <tr>\n",
       "      <th>city3</th>\n",
       "      <td>Fox Park</td>\n",
       "      <td>2762</td>\n",
       "      <td>Wyoming</td>\n",
       "    </tr>\n",
       "  </tbody>\n",
       "</table>\n",
       "</div>"
      ],
      "text/plain": [
       "            Cities  altitude     state\n",
       "First         Alma      3158  Colorado\n",
       "Second  Brian Head      3000      Utah\n",
       "city3     Fox Park      2762   Wyoming"
      ]
     },
     "execution_count": 29,
     "metadata": {},
     "output_type": "execute_result"
    }
   ],
   "source": [
    "dframem"
   ]
  },
  {
   "cell_type": "code",
   "execution_count": 30,
   "id": "488a1f1a",
   "metadata": {
    "execution": {
     "iopub.execute_input": "2022-04-05T04:13:44.023484Z",
     "iopub.status.busy": "2022-04-05T04:13:44.022915Z",
     "iopub.status.idle": "2022-04-05T04:13:44.027063Z",
     "shell.execute_reply": "2022-04-05T04:13:44.027662Z"
    },
    "papermill": {
     "duration": 0.088212,
     "end_time": "2022-04-05T04:13:44.027820",
     "exception": false,
     "start_time": "2022-04-05T04:13:43.939608",
     "status": "completed"
    },
    "tags": []
   },
   "outputs": [],
   "source": [
    "years=[1999,2000,2008,2013,2020,1991]"
   ]
  },
  {
   "cell_type": "code",
   "execution_count": 31,
   "id": "98e3d8d2",
   "metadata": {
    "execution": {
     "iopub.execute_input": "2022-04-05T04:13:44.193408Z",
     "iopub.status.busy": "2022-04-05T04:13:44.192768Z",
     "iopub.status.idle": "2022-04-05T04:13:44.196052Z",
     "shell.execute_reply": "2022-04-05T04:13:44.196613Z"
    },
    "papermill": {
     "duration": 0.088825,
     "end_time": "2022-04-05T04:13:44.196804",
     "exception": false,
     "start_time": "2022-04-05T04:13:44.107979",
     "status": "completed"
    },
    "tags": []
   },
   "outputs": [],
   "source": [
    "decade=[1990,2000,2010,2020]"
   ]
  },
  {
   "cell_type": "code",
   "execution_count": 32,
   "id": "8e9239ed",
   "metadata": {
    "execution": {
     "iopub.execute_input": "2022-04-05T04:13:44.360357Z",
     "iopub.status.busy": "2022-04-05T04:13:44.359780Z",
     "iopub.status.idle": "2022-04-05T04:13:44.370753Z",
     "shell.execute_reply": "2022-04-05T04:13:44.371273Z"
    },
    "papermill": {
     "duration": 0.094184,
     "end_time": "2022-04-05T04:13:44.371443",
     "exception": false,
     "start_time": "2022-04-05T04:13:44.277259",
     "status": "completed"
    },
    "tags": []
   },
   "outputs": [],
   "source": [
    "cuts=pd.cut(years,decade)"
   ]
  },
  {
   "cell_type": "code",
   "execution_count": 33,
   "id": "51bb554e",
   "metadata": {
    "execution": {
     "iopub.execute_input": "2022-04-05T04:13:44.537844Z",
     "iopub.status.busy": "2022-04-05T04:13:44.537122Z",
     "iopub.status.idle": "2022-04-05T04:13:44.543767Z",
     "shell.execute_reply": "2022-04-05T04:13:44.544265Z"
    },
    "papermill": {
     "duration": 0.092086,
     "end_time": "2022-04-05T04:13:44.544421",
     "exception": false,
     "start_time": "2022-04-05T04:13:44.452335",
     "status": "completed"
    },
    "tags": []
   },
   "outputs": [
    {
     "data": {
      "text/plain": [
       "[(1990, 2000], (1990, 2000], (2000, 2010], (2010, 2020], (2010, 2020], (1990, 2000]]\n",
       "Categories (3, interval[int64, right]): [(1990, 2000] < (2000, 2010] < (2010, 2020]]"
      ]
     },
     "execution_count": 33,
     "metadata": {},
     "output_type": "execute_result"
    }
   ],
   "source": [
    "cuts"
   ]
  },
  {
   "cell_type": "code",
   "execution_count": 34,
   "id": "2949df71",
   "metadata": {
    "execution": {
     "iopub.execute_input": "2022-04-05T04:13:44.711530Z",
     "iopub.status.busy": "2022-04-05T04:13:44.710949Z",
     "iopub.status.idle": "2022-04-05T04:13:44.717034Z",
     "shell.execute_reply": "2022-04-05T04:13:44.717565Z"
    },
    "papermill": {
     "duration": 0.091442,
     "end_time": "2022-04-05T04:13:44.717757",
     "exception": false,
     "start_time": "2022-04-05T04:13:44.626315",
     "status": "completed"
    },
    "tags": []
   },
   "outputs": [
    {
     "data": {
      "text/plain": [
       "IntervalIndex([(1990, 2000], (2000, 2010], (2010, 2020]], dtype='interval[int64, right]')"
      ]
     },
     "execution_count": 34,
     "metadata": {},
     "output_type": "execute_result"
    }
   ],
   "source": [
    "cuts.categories"
   ]
  },
  {
   "cell_type": "code",
   "execution_count": 35,
   "id": "c7ba0271",
   "metadata": {
    "execution": {
     "iopub.execute_input": "2022-04-05T04:13:44.886931Z",
     "iopub.status.busy": "2022-04-05T04:13:44.886254Z",
     "iopub.status.idle": "2022-04-05T04:13:44.894350Z",
     "shell.execute_reply": "2022-04-05T04:13:44.894909Z"
    },
    "papermill": {
     "duration": 0.094322,
     "end_time": "2022-04-05T04:13:44.895070",
     "exception": false,
     "start_time": "2022-04-05T04:13:44.800748",
     "status": "completed"
    },
    "tags": []
   },
   "outputs": [
    {
     "data": {
      "text/plain": [
       "(1990, 2000]    3\n",
       "(2010, 2020]    2\n",
       "(2000, 2010]    1\n",
       "dtype: int64"
      ]
     },
     "execution_count": 35,
     "metadata": {},
     "output_type": "execute_result"
    }
   ],
   "source": [
    "pd.value_counts(cuts)"
   ]
  },
  {
   "cell_type": "code",
   "execution_count": 36,
   "id": "82e8e446",
   "metadata": {
    "execution": {
     "iopub.execute_input": "2022-04-05T04:13:45.072817Z",
     "iopub.status.busy": "2022-04-05T04:13:45.072133Z",
     "iopub.status.idle": "2022-04-05T04:13:45.079119Z",
     "shell.execute_reply": "2022-04-05T04:13:45.079650Z"
    },
    "papermill": {
     "duration": 0.101755,
     "end_time": "2022-04-05T04:13:45.079842",
     "exception": false,
     "start_time": "2022-04-05T04:13:44.978087",
     "status": "completed"
    },
    "tags": []
   },
   "outputs": [
    {
     "data": {
      "text/plain": [
       "[(1991.0, 2005.5], (1991.0, 2005.5], (2005.5, 2020.0], (2005.5, 2020.0], (2005.5, 2020.0], (1991.0, 2005.5]]\n",
       "Categories (2, interval[float64, right]): [(1991.0, 2005.5] < (2005.5, 2020.0]]"
      ]
     },
     "execution_count": 36,
     "metadata": {},
     "output_type": "execute_result"
    }
   ],
   "source": [
    "pd.cut(years,2,precision=1) #cuts the bins into 2 parts"
   ]
  },
  {
   "cell_type": "code",
   "execution_count": 37,
   "id": "add28b2e",
   "metadata": {
    "execution": {
     "iopub.execute_input": "2022-04-05T04:13:45.253918Z",
     "iopub.status.busy": "2022-04-05T04:13:45.252748Z",
     "iopub.status.idle": "2022-04-05T04:13:45.255582Z",
     "shell.execute_reply": "2022-04-05T04:13:45.256060Z"
    },
    "papermill": {
     "duration": 0.091266,
     "end_time": "2022-04-05T04:13:45.256227",
     "exception": false,
     "start_time": "2022-04-05T04:13:45.164961",
     "status": "completed"
    },
    "tags": []
   },
   "outputs": [],
   "source": [
    "np.random.seed(12345)"
   ]
  },
  {
   "cell_type": "code",
   "execution_count": 38,
   "id": "097b8f6a",
   "metadata": {
    "execution": {
     "iopub.execute_input": "2022-04-05T04:13:45.405019Z",
     "iopub.status.busy": "2022-04-05T04:13:45.404516Z",
     "iopub.status.idle": "2022-04-05T04:13:45.408255Z",
     "shell.execute_reply": "2022-04-05T04:13:45.408625Z"
    },
    "papermill": {
     "duration": 0.068805,
     "end_time": "2022-04-05T04:13:45.408789",
     "exception": false,
     "start_time": "2022-04-05T04:13:45.339984",
     "status": "completed"
    },
    "tags": []
   },
   "outputs": [],
   "source": [
    "dframe=DataFrame(np.random.randn(100,4))"
   ]
  },
  {
   "cell_type": "code",
   "execution_count": 39,
   "id": "62c71dcb",
   "metadata": {
    "execution": {
     "iopub.execute_input": "2022-04-05T04:13:45.523718Z",
     "iopub.status.busy": "2022-04-05T04:13:45.523248Z",
     "iopub.status.idle": "2022-04-05T04:13:45.533255Z",
     "shell.execute_reply": "2022-04-05T04:13:45.533614Z"
    },
    "papermill": {
     "duration": 0.06864,
     "end_time": "2022-04-05T04:13:45.533786",
     "exception": false,
     "start_time": "2022-04-05T04:13:45.465146",
     "status": "completed"
    },
    "tags": []
   },
   "outputs": [
    {
     "data": {
      "text/html": [
       "<div>\n",
       "<style scoped>\n",
       "    .dataframe tbody tr th:only-of-type {\n",
       "        vertical-align: middle;\n",
       "    }\n",
       "\n",
       "    .dataframe tbody tr th {\n",
       "        vertical-align: top;\n",
       "    }\n",
       "\n",
       "    .dataframe thead th {\n",
       "        text-align: right;\n",
       "    }\n",
       "</style>\n",
       "<table border=\"1\" class=\"dataframe\">\n",
       "  <thead>\n",
       "    <tr style=\"text-align: right;\">\n",
       "      <th></th>\n",
       "      <th>0</th>\n",
       "      <th>1</th>\n",
       "      <th>2</th>\n",
       "      <th>3</th>\n",
       "    </tr>\n",
       "  </thead>\n",
       "  <tbody>\n",
       "    <tr>\n",
       "      <th>0</th>\n",
       "      <td>-0.204708</td>\n",
       "      <td>0.478943</td>\n",
       "      <td>-0.519439</td>\n",
       "      <td>-0.555730</td>\n",
       "    </tr>\n",
       "    <tr>\n",
       "      <th>1</th>\n",
       "      <td>1.965781</td>\n",
       "      <td>1.393406</td>\n",
       "      <td>0.092908</td>\n",
       "      <td>0.281746</td>\n",
       "    </tr>\n",
       "    <tr>\n",
       "      <th>2</th>\n",
       "      <td>0.769023</td>\n",
       "      <td>1.246435</td>\n",
       "      <td>1.007189</td>\n",
       "      <td>-1.296221</td>\n",
       "    </tr>\n",
       "    <tr>\n",
       "      <th>3</th>\n",
       "      <td>0.274992</td>\n",
       "      <td>0.228913</td>\n",
       "      <td>1.352917</td>\n",
       "      <td>0.886429</td>\n",
       "    </tr>\n",
       "    <tr>\n",
       "      <th>4</th>\n",
       "      <td>-2.001637</td>\n",
       "      <td>-0.371843</td>\n",
       "      <td>1.669025</td>\n",
       "      <td>-0.438570</td>\n",
       "    </tr>\n",
       "  </tbody>\n",
       "</table>\n",
       "</div>"
      ],
      "text/plain": [
       "          0         1         2         3\n",
       "0 -0.204708  0.478943 -0.519439 -0.555730\n",
       "1  1.965781  1.393406  0.092908  0.281746\n",
       "2  0.769023  1.246435  1.007189 -1.296221\n",
       "3  0.274992  0.228913  1.352917  0.886429\n",
       "4 -2.001637 -0.371843  1.669025 -0.438570"
      ]
     },
     "execution_count": 39,
     "metadata": {},
     "output_type": "execute_result"
    }
   ],
   "source": [
    "dframe.head()"
   ]
  },
  {
   "cell_type": "code",
   "execution_count": 40,
   "id": "523aa300",
   "metadata": {
    "execution": {
     "iopub.execute_input": "2022-04-05T04:13:45.647590Z",
     "iopub.status.busy": "2022-04-05T04:13:45.647002Z",
     "iopub.status.idle": "2022-04-05T04:13:45.655518Z",
     "shell.execute_reply": "2022-04-05T04:13:45.656017Z"
    },
    "papermill": {
     "duration": 0.06693,
     "end_time": "2022-04-05T04:13:45.656187",
     "exception": false,
     "start_time": "2022-04-05T04:13:45.589257",
     "status": "completed"
    },
    "tags": []
   },
   "outputs": [
    {
     "data": {
      "text/html": [
       "<div>\n",
       "<style scoped>\n",
       "    .dataframe tbody tr th:only-of-type {\n",
       "        vertical-align: middle;\n",
       "    }\n",
       "\n",
       "    .dataframe tbody tr th {\n",
       "        vertical-align: top;\n",
       "    }\n",
       "\n",
       "    .dataframe thead th {\n",
       "        text-align: right;\n",
       "    }\n",
       "</style>\n",
       "<table border=\"1\" class=\"dataframe\">\n",
       "  <thead>\n",
       "    <tr style=\"text-align: right;\">\n",
       "      <th></th>\n",
       "      <th>0</th>\n",
       "      <th>1</th>\n",
       "      <th>2</th>\n",
       "      <th>3</th>\n",
       "    </tr>\n",
       "  </thead>\n",
       "  <tbody>\n",
       "    <tr>\n",
       "      <th>95</th>\n",
       "      <td>0.564561</td>\n",
       "      <td>-0.190481</td>\n",
       "      <td>-0.916934</td>\n",
       "      <td>-0.975814</td>\n",
       "    </tr>\n",
       "    <tr>\n",
       "      <th>96</th>\n",
       "      <td>2.212303</td>\n",
       "      <td>0.073931</td>\n",
       "      <td>1.818595</td>\n",
       "      <td>-1.581531</td>\n",
       "    </tr>\n",
       "    <tr>\n",
       "      <th>97</th>\n",
       "      <td>-0.774363</td>\n",
       "      <td>0.552936</td>\n",
       "      <td>0.106061</td>\n",
       "      <td>3.927528</td>\n",
       "    </tr>\n",
       "    <tr>\n",
       "      <th>98</th>\n",
       "      <td>-0.255126</td>\n",
       "      <td>0.854137</td>\n",
       "      <td>-0.364807</td>\n",
       "      <td>0.131102</td>\n",
       "    </tr>\n",
       "    <tr>\n",
       "      <th>99</th>\n",
       "      <td>-0.697614</td>\n",
       "      <td>1.335649</td>\n",
       "      <td>-0.151039</td>\n",
       "      <td>0.442938</td>\n",
       "    </tr>\n",
       "  </tbody>\n",
       "</table>\n",
       "</div>"
      ],
      "text/plain": [
       "           0         1         2         3\n",
       "95  0.564561 -0.190481 -0.916934 -0.975814\n",
       "96  2.212303  0.073931  1.818595 -1.581531\n",
       "97 -0.774363  0.552936  0.106061  3.927528\n",
       "98 -0.255126  0.854137 -0.364807  0.131102\n",
       "99 -0.697614  1.335649 -0.151039  0.442938"
      ]
     },
     "execution_count": 40,
     "metadata": {},
     "output_type": "execute_result"
    }
   ],
   "source": [
    "dframe.tail()"
   ]
  },
  {
   "cell_type": "code",
   "execution_count": 41,
   "id": "ed8a9a0a",
   "metadata": {
    "execution": {
     "iopub.execute_input": "2022-04-05T04:13:45.831543Z",
     "iopub.status.busy": "2022-04-05T04:13:45.830865Z",
     "iopub.status.idle": "2022-04-05T04:13:45.853638Z",
     "shell.execute_reply": "2022-04-05T04:13:45.854167Z"
    },
    "papermill": {
     "duration": 0.11219,
     "end_time": "2022-04-05T04:13:45.854327",
     "exception": false,
     "start_time": "2022-04-05T04:13:45.742137",
     "status": "completed"
    },
    "tags": []
   },
   "outputs": [
    {
     "data": {
      "text/html": [
       "<div>\n",
       "<style scoped>\n",
       "    .dataframe tbody tr th:only-of-type {\n",
       "        vertical-align: middle;\n",
       "    }\n",
       "\n",
       "    .dataframe tbody tr th {\n",
       "        vertical-align: top;\n",
       "    }\n",
       "\n",
       "    .dataframe thead th {\n",
       "        text-align: right;\n",
       "    }\n",
       "</style>\n",
       "<table border=\"1\" class=\"dataframe\">\n",
       "  <thead>\n",
       "    <tr style=\"text-align: right;\">\n",
       "      <th></th>\n",
       "      <th>0</th>\n",
       "      <th>1</th>\n",
       "      <th>2</th>\n",
       "      <th>3</th>\n",
       "    </tr>\n",
       "  </thead>\n",
       "  <tbody>\n",
       "    <tr>\n",
       "      <th>count</th>\n",
       "      <td>100.000000</td>\n",
       "      <td>100.000000</td>\n",
       "      <td>100.000000</td>\n",
       "      <td>100.000000</td>\n",
       "    </tr>\n",
       "    <tr>\n",
       "      <th>mean</th>\n",
       "      <td>-0.142766</td>\n",
       "      <td>0.099733</td>\n",
       "      <td>0.063021</td>\n",
       "      <td>-0.076623</td>\n",
       "    </tr>\n",
       "    <tr>\n",
       "      <th>std</th>\n",
       "      <td>0.995497</td>\n",
       "      <td>0.918984</td>\n",
       "      <td>1.057519</td>\n",
       "      <td>1.100933</td>\n",
       "    </tr>\n",
       "    <tr>\n",
       "      <th>min</th>\n",
       "      <td>-2.557934</td>\n",
       "      <td>-1.860761</td>\n",
       "      <td>-2.644409</td>\n",
       "      <td>-2.420294</td>\n",
       "    </tr>\n",
       "    <tr>\n",
       "      <th>25%</th>\n",
       "      <td>-0.788723</td>\n",
       "      <td>-0.571684</td>\n",
       "      <td>-0.699515</td>\n",
       "      <td>-0.773203</td>\n",
       "    </tr>\n",
       "    <tr>\n",
       "      <th>50%</th>\n",
       "      <td>-0.256996</td>\n",
       "      <td>0.111051</td>\n",
       "      <td>0.064969</td>\n",
       "      <td>-0.230874</td>\n",
       "    </tr>\n",
       "    <tr>\n",
       "      <th>75%</th>\n",
       "      <td>0.637665</td>\n",
       "      <td>0.711930</td>\n",
       "      <td>0.730487</td>\n",
       "      <td>0.624688</td>\n",
       "    </tr>\n",
       "    <tr>\n",
       "      <th>max</th>\n",
       "      <td>2.212303</td>\n",
       "      <td>2.613999</td>\n",
       "      <td>3.248944</td>\n",
       "      <td>3.927528</td>\n",
       "    </tr>\n",
       "  </tbody>\n",
       "</table>\n",
       "</div>"
      ],
      "text/plain": [
       "                0           1           2           3\n",
       "count  100.000000  100.000000  100.000000  100.000000\n",
       "mean    -0.142766    0.099733    0.063021   -0.076623\n",
       "std      0.995497    0.918984    1.057519    1.100933\n",
       "min     -2.557934   -1.860761   -2.644409   -2.420294\n",
       "25%     -0.788723   -0.571684   -0.699515   -0.773203\n",
       "50%     -0.256996    0.111051    0.064969   -0.230874\n",
       "75%      0.637665    0.711930    0.730487    0.624688\n",
       "max      2.212303    2.613999    3.248944    3.927528"
      ]
     },
     "execution_count": 41,
     "metadata": {},
     "output_type": "execute_result"
    }
   ],
   "source": [
    "dframe.describe()"
   ]
  },
  {
   "cell_type": "code",
   "execution_count": 42,
   "id": "a87c8d64",
   "metadata": {
    "execution": {
     "iopub.execute_input": "2022-04-05T04:13:46.034903Z",
     "iopub.status.busy": "2022-04-05T04:13:46.034230Z",
     "iopub.status.idle": "2022-04-05T04:13:46.037311Z",
     "shell.execute_reply": "2022-04-05T04:13:46.036847Z"
    },
    "papermill": {
     "duration": 0.094363,
     "end_time": "2022-04-05T04:13:46.037425",
     "exception": false,
     "start_time": "2022-04-05T04:13:45.943062",
     "status": "completed"
    },
    "tags": []
   },
   "outputs": [],
   "source": [
    "col=dframe[0]"
   ]
  },
  {
   "cell_type": "code",
   "execution_count": 43,
   "id": "35065d1b",
   "metadata": {
    "execution": {
     "iopub.execute_input": "2022-04-05T04:13:46.151636Z",
     "iopub.status.busy": "2022-04-05T04:13:46.150775Z",
     "iopub.status.idle": "2022-04-05T04:13:46.156471Z",
     "shell.execute_reply": "2022-04-05T04:13:46.157009Z"
    },
    "papermill": {
     "duration": 0.064052,
     "end_time": "2022-04-05T04:13:46.157154",
     "exception": false,
     "start_time": "2022-04-05T04:13:46.093102",
     "status": "completed"
    },
    "tags": []
   },
   "outputs": [
    {
     "data": {
      "text/plain": [
       "0   -0.204708\n",
       "1    1.965781\n",
       "2    0.769023\n",
       "3    0.274992\n",
       "4   -2.001637\n",
       "Name: 0, dtype: float64"
      ]
     },
     "execution_count": 43,
     "metadata": {},
     "output_type": "execute_result"
    }
   ],
   "source": [
    "col.head()"
   ]
  },
  {
   "cell_type": "code",
   "execution_count": 44,
   "id": "e2ca3b07",
   "metadata": {
    "execution": {
     "iopub.execute_input": "2022-04-05T04:13:46.338589Z",
     "iopub.status.busy": "2022-04-05T04:13:46.337869Z",
     "iopub.status.idle": "2022-04-05T04:13:46.341609Z",
     "shell.execute_reply": "2022-04-05T04:13:46.341015Z"
    },
    "papermill": {
     "duration": 0.097396,
     "end_time": "2022-04-05T04:13:46.341750",
     "exception": false,
     "start_time": "2022-04-05T04:13:46.244354",
     "status": "completed"
    },
    "tags": []
   },
   "outputs": [
    {
     "data": {
      "text/plain": [
       "4    -2.001637\n",
       "8    -2.370232\n",
       "10   -2.359419\n",
       "30   -2.252797\n",
       "68   -2.557934\n",
       "96    2.212303\n",
       "Name: 0, dtype: float64"
      ]
     },
     "execution_count": 44,
     "metadata": {},
     "output_type": "execute_result"
    }
   ],
   "source": [
    "col[np.abs(col)>2]"
   ]
  },
  {
   "cell_type": "code",
   "execution_count": 45,
   "id": "8c311b8a",
   "metadata": {
    "execution": {
     "iopub.execute_input": "2022-04-05T04:13:46.529872Z",
     "iopub.status.busy": "2022-04-05T04:13:46.529079Z",
     "iopub.status.idle": "2022-04-05T04:13:46.532309Z",
     "shell.execute_reply": "2022-04-05T04:13:46.532824Z"
    },
    "papermill": {
     "duration": 0.103532,
     "end_time": "2022-04-05T04:13:46.532987",
     "exception": false,
     "start_time": "2022-04-05T04:13:46.429455",
     "status": "completed"
    },
    "tags": []
   },
   "outputs": [
    {
     "data": {
      "text/html": [
       "<div>\n",
       "<style scoped>\n",
       "    .dataframe tbody tr th:only-of-type {\n",
       "        vertical-align: middle;\n",
       "    }\n",
       "\n",
       "    .dataframe tbody tr th {\n",
       "        vertical-align: top;\n",
       "    }\n",
       "\n",
       "    .dataframe thead th {\n",
       "        text-align: right;\n",
       "    }\n",
       "</style>\n",
       "<table border=\"1\" class=\"dataframe\">\n",
       "  <thead>\n",
       "    <tr style=\"text-align: right;\">\n",
       "      <th></th>\n",
       "      <th>0</th>\n",
       "      <th>1</th>\n",
       "      <th>2</th>\n",
       "      <th>3</th>\n",
       "    </tr>\n",
       "  </thead>\n",
       "  <tbody>\n",
       "    <tr>\n",
       "      <th>4</th>\n",
       "      <td>-2.001637</td>\n",
       "      <td>-0.371843</td>\n",
       "      <td>1.669025</td>\n",
       "      <td>-0.438570</td>\n",
       "    </tr>\n",
       "    <tr>\n",
       "      <th>5</th>\n",
       "      <td>-0.539741</td>\n",
       "      <td>0.476985</td>\n",
       "      <td>3.248944</td>\n",
       "      <td>-1.021228</td>\n",
       "    </tr>\n",
       "    <tr>\n",
       "      <th>8</th>\n",
       "      <td>-2.370232</td>\n",
       "      <td>-1.860761</td>\n",
       "      <td>-0.860757</td>\n",
       "      <td>0.560145</td>\n",
       "    </tr>\n",
       "    <tr>\n",
       "      <th>10</th>\n",
       "      <td>-2.359419</td>\n",
       "      <td>-0.199543</td>\n",
       "      <td>-1.541996</td>\n",
       "      <td>-0.970736</td>\n",
       "    </tr>\n",
       "    <tr>\n",
       "      <th>16</th>\n",
       "      <td>0.852965</td>\n",
       "      <td>-0.955869</td>\n",
       "      <td>-0.023493</td>\n",
       "      <td>-2.304234</td>\n",
       "    </tr>\n",
       "    <tr>\n",
       "      <th>22</th>\n",
       "      <td>-0.131578</td>\n",
       "      <td>0.912414</td>\n",
       "      <td>0.188211</td>\n",
       "      <td>2.169461</td>\n",
       "    </tr>\n",
       "    <tr>\n",
       "      <th>23</th>\n",
       "      <td>-0.114928</td>\n",
       "      <td>2.003697</td>\n",
       "      <td>0.029610</td>\n",
       "      <td>0.795253</td>\n",
       "    </tr>\n",
       "    <tr>\n",
       "      <th>30</th>\n",
       "      <td>-2.252797</td>\n",
       "      <td>-1.166832</td>\n",
       "      <td>0.353607</td>\n",
       "      <td>0.702110</td>\n",
       "    </tr>\n",
       "    <tr>\n",
       "      <th>40</th>\n",
       "      <td>-0.416232</td>\n",
       "      <td>-0.116747</td>\n",
       "      <td>-1.844788</td>\n",
       "      <td>2.068708</td>\n",
       "    </tr>\n",
       "    <tr>\n",
       "      <th>42</th>\n",
       "      <td>1.920784</td>\n",
       "      <td>0.746433</td>\n",
       "      <td>2.224660</td>\n",
       "      <td>-0.679400</td>\n",
       "    </tr>\n",
       "    <tr>\n",
       "      <th>51</th>\n",
       "      <td>-1.168634</td>\n",
       "      <td>-0.825020</td>\n",
       "      <td>-2.644409</td>\n",
       "      <td>-0.152986</td>\n",
       "    </tr>\n",
       "    <tr>\n",
       "      <th>58</th>\n",
       "      <td>-1.052256</td>\n",
       "      <td>1.436603</td>\n",
       "      <td>-0.576207</td>\n",
       "      <td>-2.420294</td>\n",
       "    </tr>\n",
       "    <tr>\n",
       "      <th>65</th>\n",
       "      <td>-1.070241</td>\n",
       "      <td>0.804223</td>\n",
       "      <td>-0.156736</td>\n",
       "      <td>2.010390</td>\n",
       "    </tr>\n",
       "    <tr>\n",
       "      <th>68</th>\n",
       "      <td>-2.557934</td>\n",
       "      <td>0.160807</td>\n",
       "      <td>0.076525</td>\n",
       "      <td>-0.297204</td>\n",
       "    </tr>\n",
       "    <tr>\n",
       "      <th>71</th>\n",
       "      <td>0.890874</td>\n",
       "      <td>-1.151185</td>\n",
       "      <td>-2.612303</td>\n",
       "      <td>1.141250</td>\n",
       "    </tr>\n",
       "    <tr>\n",
       "      <th>76</th>\n",
       "      <td>0.380062</td>\n",
       "      <td>0.188995</td>\n",
       "      <td>1.323298</td>\n",
       "      <td>-2.264589</td>\n",
       "    </tr>\n",
       "    <tr>\n",
       "      <th>79</th>\n",
       "      <td>0.358756</td>\n",
       "      <td>-0.388245</td>\n",
       "      <td>2.128746</td>\n",
       "      <td>1.409605</td>\n",
       "    </tr>\n",
       "    <tr>\n",
       "      <th>80</th>\n",
       "      <td>-0.105434</td>\n",
       "      <td>0.700428</td>\n",
       "      <td>2.092852</td>\n",
       "      <td>-0.136972</td>\n",
       "    </tr>\n",
       "    <tr>\n",
       "      <th>83</th>\n",
       "      <td>-1.174894</td>\n",
       "      <td>2.613999</td>\n",
       "      <td>-0.689307</td>\n",
       "      <td>-0.751653</td>\n",
       "    </tr>\n",
       "    <tr>\n",
       "      <th>92</th>\n",
       "      <td>1.241573</td>\n",
       "      <td>-0.156760</td>\n",
       "      <td>-2.449096</td>\n",
       "      <td>-1.033948</td>\n",
       "    </tr>\n",
       "    <tr>\n",
       "      <th>94</th>\n",
       "      <td>-0.475496</td>\n",
       "      <td>0.106403</td>\n",
       "      <td>-1.308228</td>\n",
       "      <td>2.173185</td>\n",
       "    </tr>\n",
       "    <tr>\n",
       "      <th>96</th>\n",
       "      <td>2.212303</td>\n",
       "      <td>0.073931</td>\n",
       "      <td>1.818595</td>\n",
       "      <td>-1.581531</td>\n",
       "    </tr>\n",
       "    <tr>\n",
       "      <th>97</th>\n",
       "      <td>-0.774363</td>\n",
       "      <td>0.552936</td>\n",
       "      <td>0.106061</td>\n",
       "      <td>3.927528</td>\n",
       "    </tr>\n",
       "  </tbody>\n",
       "</table>\n",
       "</div>"
      ],
      "text/plain": [
       "           0         1         2         3\n",
       "4  -2.001637 -0.371843  1.669025 -0.438570\n",
       "5  -0.539741  0.476985  3.248944 -1.021228\n",
       "8  -2.370232 -1.860761 -0.860757  0.560145\n",
       "10 -2.359419 -0.199543 -1.541996 -0.970736\n",
       "16  0.852965 -0.955869 -0.023493 -2.304234\n",
       "22 -0.131578  0.912414  0.188211  2.169461\n",
       "23 -0.114928  2.003697  0.029610  0.795253\n",
       "30 -2.252797 -1.166832  0.353607  0.702110\n",
       "40 -0.416232 -0.116747 -1.844788  2.068708\n",
       "42  1.920784  0.746433  2.224660 -0.679400\n",
       "51 -1.168634 -0.825020 -2.644409 -0.152986\n",
       "58 -1.052256  1.436603 -0.576207 -2.420294\n",
       "65 -1.070241  0.804223 -0.156736  2.010390\n",
       "68 -2.557934  0.160807  0.076525 -0.297204\n",
       "71  0.890874 -1.151185 -2.612303  1.141250\n",
       "76  0.380062  0.188995  1.323298 -2.264589\n",
       "79  0.358756 -0.388245  2.128746  1.409605\n",
       "80 -0.105434  0.700428  2.092852 -0.136972\n",
       "83 -1.174894  2.613999 -0.689307 -0.751653\n",
       "92  1.241573 -0.156760 -2.449096 -1.033948\n",
       "94 -0.475496  0.106403 -1.308228  2.173185\n",
       "96  2.212303  0.073931  1.818595 -1.581531\n",
       "97 -0.774363  0.552936  0.106061  3.927528"
      ]
     },
     "execution_count": 45,
     "metadata": {},
     "output_type": "execute_result"
    }
   ],
   "source": [
    "dframe[(np.abs(dframe)>2).any(1)]"
   ]
  },
  {
   "cell_type": "code",
   "execution_count": 46,
   "id": "4731dbe0",
   "metadata": {
    "execution": {
     "iopub.execute_input": "2022-04-05T04:13:46.717301Z",
     "iopub.status.busy": "2022-04-05T04:13:46.713747Z",
     "iopub.status.idle": "2022-04-05T04:13:46.719271Z",
     "shell.execute_reply": "2022-04-05T04:13:46.718866Z"
    },
    "papermill": {
     "duration": 0.097751,
     "end_time": "2022-04-05T04:13:46.719388",
     "exception": false,
     "start_time": "2022-04-05T04:13:46.621637",
     "status": "completed"
    },
    "tags": []
   },
   "outputs": [],
   "source": [
    "dframe[(np.abs(dframe)>2)]=np.sign(dframe)*2"
   ]
  },
  {
   "cell_type": "code",
   "execution_count": 47,
   "id": "6bd41a7b",
   "metadata": {
    "execution": {
     "iopub.execute_input": "2022-04-05T04:13:46.838893Z",
     "iopub.status.busy": "2022-04-05T04:13:46.838362Z",
     "iopub.status.idle": "2022-04-05T04:13:46.847092Z",
     "shell.execute_reply": "2022-04-05T04:13:46.847488Z"
    },
    "papermill": {
     "duration": 0.069851,
     "end_time": "2022-04-05T04:13:46.847621",
     "exception": false,
     "start_time": "2022-04-05T04:13:46.777770",
     "status": "completed"
    },
    "tags": []
   },
   "outputs": [
    {
     "data": {
      "text/html": [
       "<div>\n",
       "<style scoped>\n",
       "    .dataframe tbody tr th:only-of-type {\n",
       "        vertical-align: middle;\n",
       "    }\n",
       "\n",
       "    .dataframe tbody tr th {\n",
       "        vertical-align: top;\n",
       "    }\n",
       "\n",
       "    .dataframe thead th {\n",
       "        text-align: right;\n",
       "    }\n",
       "</style>\n",
       "<table border=\"1\" class=\"dataframe\">\n",
       "  <thead>\n",
       "    <tr style=\"text-align: right;\">\n",
       "      <th></th>\n",
       "      <th>0</th>\n",
       "      <th>1</th>\n",
       "      <th>2</th>\n",
       "      <th>3</th>\n",
       "    </tr>\n",
       "  </thead>\n",
       "  <tbody>\n",
       "    <tr>\n",
       "      <th>0</th>\n",
       "      <td>-0.204708</td>\n",
       "      <td>0.478943</td>\n",
       "      <td>-0.519439</td>\n",
       "      <td>-0.555730</td>\n",
       "    </tr>\n",
       "    <tr>\n",
       "      <th>1</th>\n",
       "      <td>1.965781</td>\n",
       "      <td>1.393406</td>\n",
       "      <td>0.092908</td>\n",
       "      <td>0.281746</td>\n",
       "    </tr>\n",
       "    <tr>\n",
       "      <th>2</th>\n",
       "      <td>0.769023</td>\n",
       "      <td>1.246435</td>\n",
       "      <td>1.007189</td>\n",
       "      <td>-1.296221</td>\n",
       "    </tr>\n",
       "    <tr>\n",
       "      <th>3</th>\n",
       "      <td>0.274992</td>\n",
       "      <td>0.228913</td>\n",
       "      <td>1.352917</td>\n",
       "      <td>0.886429</td>\n",
       "    </tr>\n",
       "    <tr>\n",
       "      <th>4</th>\n",
       "      <td>-2.000000</td>\n",
       "      <td>-0.371843</td>\n",
       "      <td>1.669025</td>\n",
       "      <td>-0.438570</td>\n",
       "    </tr>\n",
       "    <tr>\n",
       "      <th>...</th>\n",
       "      <td>...</td>\n",
       "      <td>...</td>\n",
       "      <td>...</td>\n",
       "      <td>...</td>\n",
       "    </tr>\n",
       "    <tr>\n",
       "      <th>95</th>\n",
       "      <td>0.564561</td>\n",
       "      <td>-0.190481</td>\n",
       "      <td>-0.916934</td>\n",
       "      <td>-0.975814</td>\n",
       "    </tr>\n",
       "    <tr>\n",
       "      <th>96</th>\n",
       "      <td>2.000000</td>\n",
       "      <td>0.073931</td>\n",
       "      <td>1.818595</td>\n",
       "      <td>-1.581531</td>\n",
       "    </tr>\n",
       "    <tr>\n",
       "      <th>97</th>\n",
       "      <td>-0.774363</td>\n",
       "      <td>0.552936</td>\n",
       "      <td>0.106061</td>\n",
       "      <td>2.000000</td>\n",
       "    </tr>\n",
       "    <tr>\n",
       "      <th>98</th>\n",
       "      <td>-0.255126</td>\n",
       "      <td>0.854137</td>\n",
       "      <td>-0.364807</td>\n",
       "      <td>0.131102</td>\n",
       "    </tr>\n",
       "    <tr>\n",
       "      <th>99</th>\n",
       "      <td>-0.697614</td>\n",
       "      <td>1.335649</td>\n",
       "      <td>-0.151039</td>\n",
       "      <td>0.442938</td>\n",
       "    </tr>\n",
       "  </tbody>\n",
       "</table>\n",
       "<p>100 rows × 4 columns</p>\n",
       "</div>"
      ],
      "text/plain": [
       "           0         1         2         3\n",
       "0  -0.204708  0.478943 -0.519439 -0.555730\n",
       "1   1.965781  1.393406  0.092908  0.281746\n",
       "2   0.769023  1.246435  1.007189 -1.296221\n",
       "3   0.274992  0.228913  1.352917  0.886429\n",
       "4  -2.000000 -0.371843  1.669025 -0.438570\n",
       "..       ...       ...       ...       ...\n",
       "95  0.564561 -0.190481 -0.916934 -0.975814\n",
       "96  2.000000  0.073931  1.818595 -1.581531\n",
       "97 -0.774363  0.552936  0.106061  2.000000\n",
       "98 -0.255126  0.854137 -0.364807  0.131102\n",
       "99 -0.697614  1.335649 -0.151039  0.442938\n",
       "\n",
       "[100 rows x 4 columns]"
      ]
     },
     "execution_count": 47,
     "metadata": {},
     "output_type": "execute_result"
    }
   ],
   "source": [
    "dframe"
   ]
  },
  {
   "cell_type": "code",
   "execution_count": 48,
   "id": "972ff69d",
   "metadata": {
    "execution": {
     "iopub.execute_input": "2022-04-05T04:13:46.969446Z",
     "iopub.status.busy": "2022-04-05T04:13:46.968942Z",
     "iopub.status.idle": "2022-04-05T04:13:46.971316Z",
     "shell.execute_reply": "2022-04-05T04:13:46.971734Z"
    },
    "papermill": {
     "duration": 0.064555,
     "end_time": "2022-04-05T04:13:46.971875",
     "exception": false,
     "start_time": "2022-04-05T04:13:46.907320",
     "status": "completed"
    },
    "tags": []
   },
   "outputs": [],
   "source": [
    "dframee=DataFrame(np.random.permutation(16).reshape(4,4))"
   ]
  },
  {
   "cell_type": "code",
   "execution_count": 49,
   "id": "b34be8f8",
   "metadata": {
    "execution": {
     "iopub.execute_input": "2022-04-05T04:13:47.101691Z",
     "iopub.status.busy": "2022-04-05T04:13:47.101161Z",
     "iopub.status.idle": "2022-04-05T04:13:47.103323Z",
     "shell.execute_reply": "2022-04-05T04:13:47.103753Z"
    },
    "papermill": {
     "duration": 0.071144,
     "end_time": "2022-04-05T04:13:47.103887",
     "exception": false,
     "start_time": "2022-04-05T04:13:47.032743",
     "status": "completed"
    },
    "tags": []
   },
   "outputs": [
    {
     "data": {
      "text/html": [
       "<div>\n",
       "<style scoped>\n",
       "    .dataframe tbody tr th:only-of-type {\n",
       "        vertical-align: middle;\n",
       "    }\n",
       "\n",
       "    .dataframe tbody tr th {\n",
       "        vertical-align: top;\n",
       "    }\n",
       "\n",
       "    .dataframe thead th {\n",
       "        text-align: right;\n",
       "    }\n",
       "</style>\n",
       "<table border=\"1\" class=\"dataframe\">\n",
       "  <thead>\n",
       "    <tr style=\"text-align: right;\">\n",
       "      <th></th>\n",
       "      <th>0</th>\n",
       "      <th>1</th>\n",
       "      <th>2</th>\n",
       "      <th>3</th>\n",
       "    </tr>\n",
       "  </thead>\n",
       "  <tbody>\n",
       "    <tr>\n",
       "      <th>0</th>\n",
       "      <td>2</td>\n",
       "      <td>8</td>\n",
       "      <td>12</td>\n",
       "      <td>15</td>\n",
       "    </tr>\n",
       "    <tr>\n",
       "      <th>1</th>\n",
       "      <td>1</td>\n",
       "      <td>13</td>\n",
       "      <td>4</td>\n",
       "      <td>7</td>\n",
       "    </tr>\n",
       "    <tr>\n",
       "      <th>2</th>\n",
       "      <td>14</td>\n",
       "      <td>11</td>\n",
       "      <td>5</td>\n",
       "      <td>10</td>\n",
       "    </tr>\n",
       "    <tr>\n",
       "      <th>3</th>\n",
       "      <td>3</td>\n",
       "      <td>0</td>\n",
       "      <td>6</td>\n",
       "      <td>9</td>\n",
       "    </tr>\n",
       "  </tbody>\n",
       "</table>\n",
       "</div>"
      ],
      "text/plain": [
       "    0   1   2   3\n",
       "0   2   8  12  15\n",
       "1   1  13   4   7\n",
       "2  14  11   5  10\n",
       "3   3   0   6   9"
      ]
     },
     "execution_count": 49,
     "metadata": {},
     "output_type": "execute_result"
    }
   ],
   "source": [
    "dframee"
   ]
  },
  {
   "cell_type": "code",
   "execution_count": 50,
   "id": "c81bb1ce",
   "metadata": {
    "execution": {
     "iopub.execute_input": "2022-04-05T04:13:47.227062Z",
     "iopub.status.busy": "2022-04-05T04:13:47.224937Z",
     "iopub.status.idle": "2022-04-05T04:13:47.228445Z",
     "shell.execute_reply": "2022-04-05T04:13:47.228902Z"
    },
    "papermill": {
     "duration": 0.065849,
     "end_time": "2022-04-05T04:13:47.229025",
     "exception": false,
     "start_time": "2022-04-05T04:13:47.163176",
     "status": "completed"
    },
    "tags": []
   },
   "outputs": [],
   "source": [
    "box=np.array([1,2,3])"
   ]
  },
  {
   "cell_type": "code",
   "execution_count": 51,
   "id": "f1a97cb9",
   "metadata": {
    "execution": {
     "iopub.execute_input": "2022-04-05T04:13:47.349212Z",
     "iopub.status.busy": "2022-04-05T04:13:47.348775Z",
     "iopub.status.idle": "2022-04-05T04:13:47.352834Z",
     "shell.execute_reply": "2022-04-05T04:13:47.353258Z"
    },
    "papermill": {
     "duration": 0.06526,
     "end_time": "2022-04-05T04:13:47.353416",
     "exception": false,
     "start_time": "2022-04-05T04:13:47.288156",
     "status": "completed"
    },
    "tags": []
   },
   "outputs": [],
   "source": [
    "shaker=np.random.randint(0,len(box),size=10)"
   ]
  },
  {
   "cell_type": "code",
   "execution_count": 52,
   "id": "5ca7acde",
   "metadata": {
    "execution": {
     "iopub.execute_input": "2022-04-05T04:13:47.476254Z",
     "iopub.status.busy": "2022-04-05T04:13:47.474826Z",
     "iopub.status.idle": "2022-04-05T04:13:47.479952Z",
     "shell.execute_reply": "2022-04-05T04:13:47.480383Z"
    },
    "papermill": {
     "duration": 0.067935,
     "end_time": "2022-04-05T04:13:47.480528",
     "exception": false,
     "start_time": "2022-04-05T04:13:47.412593",
     "status": "completed"
    },
    "tags": []
   },
   "outputs": [
    {
     "data": {
      "text/plain": [
       "array([2, 0, 0, 1, 1, 0, 1, 1, 1, 2])"
      ]
     },
     "execution_count": 52,
     "metadata": {},
     "output_type": "execute_result"
    }
   ],
   "source": [
    "shaker"
   ]
  },
  {
   "cell_type": "code",
   "execution_count": 53,
   "id": "68413e41",
   "metadata": {
    "execution": {
     "iopub.execute_input": "2022-04-05T04:13:47.605493Z",
     "iopub.status.busy": "2022-04-05T04:13:47.605001Z",
     "iopub.status.idle": "2022-04-05T04:13:47.607988Z",
     "shell.execute_reply": "2022-04-05T04:13:47.607421Z"
    },
    "papermill": {
     "duration": 0.067252,
     "end_time": "2022-04-05T04:13:47.608133",
     "exception": false,
     "start_time": "2022-04-05T04:13:47.540881",
     "status": "completed"
    },
    "tags": []
   },
   "outputs": [],
   "source": [
    "handgrabs=box.take(shaker)"
   ]
  },
  {
   "cell_type": "code",
   "execution_count": 54,
   "id": "16c61bb6",
   "metadata": {
    "execution": {
     "iopub.execute_input": "2022-04-05T04:13:47.799578Z",
     "iopub.status.busy": "2022-04-05T04:13:47.798816Z",
     "iopub.status.idle": "2022-04-05T04:13:47.803532Z",
     "shell.execute_reply": "2022-04-05T04:13:47.804006Z"
    },
    "papermill": {
     "duration": 0.101721,
     "end_time": "2022-04-05T04:13:47.804144",
     "exception": false,
     "start_time": "2022-04-05T04:13:47.702423",
     "status": "completed"
    },
    "tags": []
   },
   "outputs": [
    {
     "data": {
      "text/plain": [
       "array([3, 1, 1, 2, 2, 1, 2, 2, 2, 3])"
      ]
     },
     "execution_count": 54,
     "metadata": {},
     "output_type": "execute_result"
    }
   ],
   "source": [
    "handgrabs"
   ]
  },
  {
   "cell_type": "code",
   "execution_count": 55,
   "id": "73f21a89",
   "metadata": {
    "execution": {
     "iopub.execute_input": "2022-04-05T04:13:47.926255Z",
     "iopub.status.busy": "2022-04-05T04:13:47.925744Z",
     "iopub.status.idle": "2022-04-05T04:13:47.930849Z",
     "shell.execute_reply": "2022-04-05T04:13:47.931231Z"
    },
    "papermill": {
     "duration": 0.067795,
     "end_time": "2022-04-05T04:13:47.931378",
     "exception": false,
     "start_time": "2022-04-05T04:13:47.863583",
     "status": "completed"
    },
    "tags": []
   },
   "outputs": [],
   "source": [
    "dframea=DataFrame({'Data1':[1,2,3,4,5,6],'Data2':np.random.randn(6),'key':['A','A','C','C','E','E']})"
   ]
  },
  {
   "cell_type": "code",
   "execution_count": 56,
   "id": "0f641079",
   "metadata": {
    "execution": {
     "iopub.execute_input": "2022-04-05T04:13:48.081010Z",
     "iopub.status.busy": "2022-04-05T04:13:48.080235Z",
     "iopub.status.idle": "2022-04-05T04:13:48.092024Z",
     "shell.execute_reply": "2022-04-05T04:13:48.092660Z"
    },
    "papermill": {
     "duration": 0.09914,
     "end_time": "2022-04-05T04:13:48.092872",
     "exception": false,
     "start_time": "2022-04-05T04:13:47.993732",
     "status": "completed"
    },
    "tags": []
   },
   "outputs": [
    {
     "data": {
      "text/html": [
       "<div>\n",
       "<style scoped>\n",
       "    .dataframe tbody tr th:only-of-type {\n",
       "        vertical-align: middle;\n",
       "    }\n",
       "\n",
       "    .dataframe tbody tr th {\n",
       "        vertical-align: top;\n",
       "    }\n",
       "\n",
       "    .dataframe thead th {\n",
       "        text-align: right;\n",
       "    }\n",
       "</style>\n",
       "<table border=\"1\" class=\"dataframe\">\n",
       "  <thead>\n",
       "    <tr style=\"text-align: right;\">\n",
       "      <th></th>\n",
       "      <th>Data1</th>\n",
       "      <th>Data2</th>\n",
       "      <th>key</th>\n",
       "    </tr>\n",
       "  </thead>\n",
       "  <tbody>\n",
       "    <tr>\n",
       "      <th>0</th>\n",
       "      <td>1</td>\n",
       "      <td>0.839101</td>\n",
       "      <td>A</td>\n",
       "    </tr>\n",
       "    <tr>\n",
       "      <th>1</th>\n",
       "      <td>2</td>\n",
       "      <td>0.409719</td>\n",
       "      <td>A</td>\n",
       "    </tr>\n",
       "    <tr>\n",
       "      <th>2</th>\n",
       "      <td>3</td>\n",
       "      <td>0.835644</td>\n",
       "      <td>C</td>\n",
       "    </tr>\n",
       "    <tr>\n",
       "      <th>3</th>\n",
       "      <td>4</td>\n",
       "      <td>0.182381</td>\n",
       "      <td>C</td>\n",
       "    </tr>\n",
       "    <tr>\n",
       "      <th>4</th>\n",
       "      <td>5</td>\n",
       "      <td>0.629688</td>\n",
       "      <td>E</td>\n",
       "    </tr>\n",
       "    <tr>\n",
       "      <th>5</th>\n",
       "      <td>6</td>\n",
       "      <td>-0.379172</td>\n",
       "      <td>E</td>\n",
       "    </tr>\n",
       "  </tbody>\n",
       "</table>\n",
       "</div>"
      ],
      "text/plain": [
       "   Data1     Data2 key\n",
       "0      1  0.839101   A\n",
       "1      2  0.409719   A\n",
       "2      3  0.835644   C\n",
       "3      4  0.182381   C\n",
       "4      5  0.629688   E\n",
       "5      6 -0.379172   E"
      ]
     },
     "execution_count": 56,
     "metadata": {},
     "output_type": "execute_result"
    }
   ],
   "source": [
    "dframea"
   ]
  },
  {
   "cell_type": "code",
   "execution_count": 57,
   "id": "f43dacdb",
   "metadata": {
    "execution": {
     "iopub.execute_input": "2022-04-05T04:13:48.292916Z",
     "iopub.status.busy": "2022-04-05T04:13:48.292310Z",
     "iopub.status.idle": "2022-04-05T04:13:48.296543Z",
     "shell.execute_reply": "2022-04-05T04:13:48.297086Z"
    },
    "papermill": {
     "duration": 0.102981,
     "end_time": "2022-04-05T04:13:48.297258",
     "exception": false,
     "start_time": "2022-04-05T04:13:48.194277",
     "status": "completed"
    },
    "tags": []
   },
   "outputs": [],
   "source": [
    "group1=dframea['Data2'].groupby(dframea['Data1'])"
   ]
  },
  {
   "cell_type": "code",
   "execution_count": 58,
   "id": "8ce89937",
   "metadata": {
    "execution": {
     "iopub.execute_input": "2022-04-05T04:13:48.489820Z",
     "iopub.status.busy": "2022-04-05T04:13:48.489169Z",
     "iopub.status.idle": "2022-04-05T04:13:48.493805Z",
     "shell.execute_reply": "2022-04-05T04:13:48.494389Z"
    },
    "papermill": {
     "duration": 0.102983,
     "end_time": "2022-04-05T04:13:48.494548",
     "exception": false,
     "start_time": "2022-04-05T04:13:48.391565",
     "status": "completed"
    },
    "tags": []
   },
   "outputs": [
    {
     "data": {
      "text/plain": [
       "<pandas.core.groupby.generic.SeriesGroupBy object at 0x7f98da2bacd0>"
      ]
     },
     "execution_count": 58,
     "metadata": {},
     "output_type": "execute_result"
    }
   ],
   "source": [
    "group1"
   ]
  },
  {
   "cell_type": "code",
   "execution_count": 59,
   "id": "b2d1dcd5",
   "metadata": {
    "execution": {
     "iopub.execute_input": "2022-04-05T04:13:48.686942Z",
     "iopub.status.busy": "2022-04-05T04:13:48.686274Z",
     "iopub.status.idle": "2022-04-05T04:13:48.695273Z",
     "shell.execute_reply": "2022-04-05T04:13:48.695801Z"
    },
    "papermill": {
     "duration": 0.106769,
     "end_time": "2022-04-05T04:13:48.695971",
     "exception": false,
     "start_time": "2022-04-05T04:13:48.589202",
     "status": "completed"
    },
    "tags": []
   },
   "outputs": [
    {
     "data": {
      "text/plain": [
       "Data1\n",
       "1    0.839101\n",
       "2    0.409719\n",
       "3    0.835644\n",
       "4    0.182381\n",
       "5    0.629688\n",
       "6   -0.379172\n",
       "Name: Data2, dtype: float64"
      ]
     },
     "execution_count": 59,
     "metadata": {},
     "output_type": "execute_result"
    }
   ],
   "source": [
    "group1.mean()"
   ]
  },
  {
   "cell_type": "code",
   "execution_count": 60,
   "id": "560d188c",
   "metadata": {
    "execution": {
     "iopub.execute_input": "2022-04-05T04:13:48.896481Z",
     "iopub.status.busy": "2022-04-05T04:13:48.895617Z",
     "iopub.status.idle": "2022-04-05T04:13:48.897266Z",
     "shell.execute_reply": "2022-04-05T04:13:48.897795Z"
    },
    "papermill": {
     "duration": 0.104369,
     "end_time": "2022-04-05T04:13:48.897961",
     "exception": false,
     "start_time": "2022-04-05T04:13:48.793592",
     "status": "completed"
    },
    "tags": []
   },
   "outputs": [],
   "source": [
    "cities=np.array(['NY','LA','SF','NY'])\n",
    "month=np.array(['Jan','Feb','Jan','Jan'])"
   ]
  },
  {
   "cell_type": "code",
   "execution_count": 61,
   "id": "831d7611",
   "metadata": {
    "execution": {
     "iopub.execute_input": "2022-04-05T04:13:49.095149Z",
     "iopub.status.busy": "2022-04-05T04:13:49.094344Z",
     "iopub.status.idle": "2022-04-05T04:13:49.104055Z",
     "shell.execute_reply": "2022-04-05T04:13:49.103459Z"
    },
    "papermill": {
     "duration": 0.109812,
     "end_time": "2022-04-05T04:13:49.104210",
     "exception": false,
     "start_time": "2022-04-05T04:13:48.994398",
     "status": "completed"
    },
    "tags": []
   },
   "outputs": [
    {
     "data": {
      "text/plain": [
       "LA  Feb    0.409719\n",
       "NY  Jan    0.510741\n",
       "SF  Jan    0.835644\n",
       "Name: Data2, dtype: float64"
      ]
     },
     "execution_count": 61,
     "metadata": {},
     "output_type": "execute_result"
    }
   ],
   "source": [
    "dframea['Data2'][:4].groupby([cities,month]).mean()"
   ]
  },
  {
   "cell_type": "code",
   "execution_count": 62,
   "id": "6777df9f",
   "metadata": {
    "execution": {
     "iopub.execute_input": "2022-04-05T04:13:49.309432Z",
     "iopub.status.busy": "2022-04-05T04:13:49.308798Z",
     "iopub.status.idle": "2022-04-05T04:13:49.311383Z",
     "shell.execute_reply": "2022-04-05T04:13:49.311897Z"
    },
    "papermill": {
     "duration": 0.108226,
     "end_time": "2022-04-05T04:13:49.312053",
     "exception": false,
     "start_time": "2022-04-05T04:13:49.203827",
     "status": "completed"
    },
    "tags": []
   },
   "outputs": [
    {
     "data": {
      "text/html": [
       "<div>\n",
       "<style scoped>\n",
       "    .dataframe tbody tr th:only-of-type {\n",
       "        vertical-align: middle;\n",
       "    }\n",
       "\n",
       "    .dataframe tbody tr th {\n",
       "        vertical-align: top;\n",
       "    }\n",
       "\n",
       "    .dataframe thead th {\n",
       "        text-align: right;\n",
       "    }\n",
       "</style>\n",
       "<table border=\"1\" class=\"dataframe\">\n",
       "  <thead>\n",
       "    <tr style=\"text-align: right;\">\n",
       "      <th></th>\n",
       "      <th>Data1</th>\n",
       "      <th>Data2</th>\n",
       "      <th>key</th>\n",
       "    </tr>\n",
       "  </thead>\n",
       "  <tbody>\n",
       "    <tr>\n",
       "      <th>0</th>\n",
       "      <td>1</td>\n",
       "      <td>0.839101</td>\n",
       "      <td>A</td>\n",
       "    </tr>\n",
       "    <tr>\n",
       "      <th>1</th>\n",
       "      <td>2</td>\n",
       "      <td>0.409719</td>\n",
       "      <td>A</td>\n",
       "    </tr>\n",
       "    <tr>\n",
       "      <th>2</th>\n",
       "      <td>3</td>\n",
       "      <td>0.835644</td>\n",
       "      <td>C</td>\n",
       "    </tr>\n",
       "    <tr>\n",
       "      <th>3</th>\n",
       "      <td>4</td>\n",
       "      <td>0.182381</td>\n",
       "      <td>C</td>\n",
       "    </tr>\n",
       "    <tr>\n",
       "      <th>4</th>\n",
       "      <td>5</td>\n",
       "      <td>0.629688</td>\n",
       "      <td>E</td>\n",
       "    </tr>\n",
       "    <tr>\n",
       "      <th>5</th>\n",
       "      <td>6</td>\n",
       "      <td>-0.379172</td>\n",
       "      <td>E</td>\n",
       "    </tr>\n",
       "  </tbody>\n",
       "</table>\n",
       "</div>"
      ],
      "text/plain": [
       "   Data1     Data2 key\n",
       "0      1  0.839101   A\n",
       "1      2  0.409719   A\n",
       "2      3  0.835644   C\n",
       "3      4  0.182381   C\n",
       "4      5  0.629688   E\n",
       "5      6 -0.379172   E"
      ]
     },
     "execution_count": 62,
     "metadata": {},
     "output_type": "execute_result"
    }
   ],
   "source": [
    "dframea"
   ]
  },
  {
   "cell_type": "code",
   "execution_count": 63,
   "id": "18e4ab47",
   "metadata": {
    "execution": {
     "iopub.execute_input": "2022-04-05T04:13:49.518347Z",
     "iopub.status.busy": "2022-04-05T04:13:49.517709Z",
     "iopub.status.idle": "2022-04-05T04:13:49.531738Z",
     "shell.execute_reply": "2022-04-05T04:13:49.531340Z"
    },
    "papermill": {
     "duration": 0.122038,
     "end_time": "2022-04-05T04:13:49.531846",
     "exception": false,
     "start_time": "2022-04-05T04:13:49.409808",
     "status": "completed"
    },
    "tags": []
   },
   "outputs": [
    {
     "data": {
      "text/html": [
       "<div>\n",
       "<style scoped>\n",
       "    .dataframe tbody tr th:only-of-type {\n",
       "        vertical-align: middle;\n",
       "    }\n",
       "\n",
       "    .dataframe tbody tr th {\n",
       "        vertical-align: top;\n",
       "    }\n",
       "\n",
       "    .dataframe thead tr th {\n",
       "        text-align: left;\n",
       "    }\n",
       "\n",
       "    .dataframe thead tr:last-of-type th {\n",
       "        text-align: right;\n",
       "    }\n",
       "</style>\n",
       "<table border=\"1\" class=\"dataframe\">\n",
       "  <thead>\n",
       "    <tr>\n",
       "      <th></th>\n",
       "      <th colspan=\"3\" halign=\"left\">Data1</th>\n",
       "      <th colspan=\"3\" halign=\"left\">Data2</th>\n",
       "    </tr>\n",
       "    <tr>\n",
       "      <th></th>\n",
       "      <th>mean</th>\n",
       "      <th>max</th>\n",
       "      <th>min</th>\n",
       "      <th>mean</th>\n",
       "      <th>max</th>\n",
       "      <th>min</th>\n",
       "    </tr>\n",
       "    <tr>\n",
       "      <th>key</th>\n",
       "      <th></th>\n",
       "      <th></th>\n",
       "      <th></th>\n",
       "      <th></th>\n",
       "      <th></th>\n",
       "      <th></th>\n",
       "    </tr>\n",
       "  </thead>\n",
       "  <tbody>\n",
       "    <tr>\n",
       "      <th>A</th>\n",
       "      <td>1.5</td>\n",
       "      <td>2</td>\n",
       "      <td>1</td>\n",
       "      <td>0.624410</td>\n",
       "      <td>0.839101</td>\n",
       "      <td>0.409719</td>\n",
       "    </tr>\n",
       "    <tr>\n",
       "      <th>C</th>\n",
       "      <td>3.5</td>\n",
       "      <td>4</td>\n",
       "      <td>3</td>\n",
       "      <td>0.509012</td>\n",
       "      <td>0.835644</td>\n",
       "      <td>0.182381</td>\n",
       "    </tr>\n",
       "    <tr>\n",
       "      <th>E</th>\n",
       "      <td>5.5</td>\n",
       "      <td>6</td>\n",
       "      <td>5</td>\n",
       "      <td>0.125258</td>\n",
       "      <td>0.629688</td>\n",
       "      <td>-0.379172</td>\n",
       "    </tr>\n",
       "  </tbody>\n",
       "</table>\n",
       "</div>"
      ],
      "text/plain": [
       "    Data1             Data2                    \n",
       "     mean max min      mean       max       min\n",
       "key                                            \n",
       "A     1.5   2   1  0.624410  0.839101  0.409719\n",
       "C     3.5   4   3  0.509012  0.835644  0.182381\n",
       "E     5.5   6   5  0.125258  0.629688 -0.379172"
      ]
     },
     "execution_count": 63,
     "metadata": {},
     "output_type": "execute_result"
    }
   ],
   "source": [
    "dframea.groupby(['key']).agg(['mean','max','min'])"
   ]
  },
  {
   "cell_type": "code",
   "execution_count": 64,
   "id": "5ac9a020",
   "metadata": {
    "execution": {
     "iopub.execute_input": "2022-04-05T04:13:49.663605Z",
     "iopub.status.busy": "2022-04-05T04:13:49.663163Z",
     "iopub.status.idle": "2022-04-05T04:13:49.669645Z",
     "shell.execute_reply": "2022-04-05T04:13:49.670092Z"
    },
    "papermill": {
     "duration": 0.075018,
     "end_time": "2022-04-05T04:13:49.670256",
     "exception": false,
     "start_time": "2022-04-05T04:13:49.595238",
     "status": "completed"
    },
    "tags": []
   },
   "outputs": [
    {
     "data": {
      "text/plain": [
       "key\n",
       "A    2\n",
       "C    2\n",
       "E    2\n",
       "dtype: int64"
      ]
     },
     "execution_count": 64,
     "metadata": {},
     "output_type": "execute_result"
    }
   ],
   "source": [
    "dframea.groupby(['key']).size()"
   ]
  },
  {
   "cell_type": "code",
   "execution_count": 65,
   "id": "c172da6f",
   "metadata": {
    "execution": {
     "iopub.execute_input": "2022-04-05T04:13:49.801076Z",
     "iopub.status.busy": "2022-04-05T04:13:49.800540Z",
     "iopub.status.idle": "2022-04-05T04:13:49.809062Z",
     "shell.execute_reply": "2022-04-05T04:13:49.809522Z"
    },
    "papermill": {
     "duration": 0.075172,
     "end_time": "2022-04-05T04:13:49.809663",
     "exception": false,
     "start_time": "2022-04-05T04:13:49.734491",
     "status": "completed"
    },
    "tags": []
   },
   "outputs": [
    {
     "name": "stdout",
     "output_type": "stream",
     "text": [
      "This is the A group\n",
      "   Data1     Data2 key\n",
      "0      1  0.839101   A\n",
      "1      2  0.409719   A\n",
      "\n",
      "\n",
      "This is the C group\n",
      "   Data1     Data2 key\n",
      "2      3  0.835644   C\n",
      "3      4  0.182381   C\n",
      "\n",
      "\n",
      "This is the E group\n",
      "   Data1     Data2 key\n",
      "4      5  0.629688   E\n",
      "5      6 -0.379172   E\n",
      "\n",
      "\n"
     ]
    }
   ],
   "source": [
    "for name,group in dframea.groupby('key'):\n",
    "    print(\"This is the %s group\" %name)\n",
    "    print(group)\n",
    "    print('\\n')"
   ]
  }
 ],
 "metadata": {
  "kernelspec": {
   "display_name": "Python 3",
   "language": "python",
   "name": "python3"
  },
  "language_info": {
   "codemirror_mode": {
    "name": "ipython",
    "version": 3
   },
   "file_extension": ".py",
   "mimetype": "text/x-python",
   "name": "python",
   "nbconvert_exporter": "python",
   "pygments_lexer": "ipython3",
   "version": "3.7.12"
  },
  "papermill": {
   "default_parameters": {},
   "duration": 22.43484,
   "end_time": "2022-04-05T04:13:50.586162",
   "environment_variables": {},
   "exception": null,
   "input_path": "__notebook__.ipynb",
   "output_path": "__notebook__.ipynb",
   "parameters": {},
   "start_time": "2022-04-05T04:13:28.151322",
   "version": "2.3.3"
  }
 },
 "nbformat": 4,
 "nbformat_minor": 5
}
